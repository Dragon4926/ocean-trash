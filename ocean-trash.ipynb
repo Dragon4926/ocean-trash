{
  "cells": [
    {
      "cell_type": "markdown",
      "metadata": {
        "id": "view-in-github",
        "colab_type": "text"
      },
      "source": [
        "<a href=\"https://colab.research.google.com/github/Dragon4926/ocean-trash/blob/main/ocean-trash.ipynb\" target=\"_parent\"><img src=\"https://colab.research.google.com/assets/colab-badge.svg\" alt=\"Open In Colab\"/></a>"
      ]
    },
    {
      "cell_type": "markdown",
      "id": "21194a4c",
      "metadata": {
        "id": "21194a4c",
        "papermill": {
          "duration": 0.008665,
          "end_time": "2023-04-05T14:55:20.206094",
          "exception": false,
          "start_time": "2023-04-05T14:55:20.197429",
          "status": "completed"
        },
        "tags": []
      },
      "source": [
        "## Installation and Setup"
      ]
    },
    {
      "cell_type": "code",
      "execution_count": 1,
      "id": "89b35f46",
      "metadata": {
        "id": "89b35f46",
        "outputId": "87bbd468-eb5e-4bbb-d910-3a0ffc5d4bc7",
        "papermill": {
          "duration": 14.022228,
          "end_time": "2023-04-05T14:55:34.235791",
          "exception": false,
          "start_time": "2023-04-05T14:55:20.213563",
          "status": "completed"
        },
        "tags": [],
        "colab": {
          "base_uri": "https://localhost:8080/"
        }
      },
      "outputs": [
        {
          "output_type": "stream",
          "name": "stdout",
          "text": [
            "Collecting ultralytics\n",
            "  Downloading ultralytics-8.3.36-py3-none-any.whl.metadata (35 kB)\n",
            "Requirement already satisfied: numpy>=1.23.0 in /usr/local/lib/python3.10/dist-packages (from ultralytics) (1.26.4)\n",
            "Requirement already satisfied: matplotlib>=3.3.0 in /usr/local/lib/python3.10/dist-packages (from ultralytics) (3.8.0)\n",
            "Requirement already satisfied: opencv-python>=4.6.0 in /usr/local/lib/python3.10/dist-packages (from ultralytics) (4.10.0.84)\n",
            "Requirement already satisfied: pillow>=7.1.2 in /usr/local/lib/python3.10/dist-packages (from ultralytics) (11.0.0)\n",
            "Requirement already satisfied: pyyaml>=5.3.1 in /usr/local/lib/python3.10/dist-packages (from ultralytics) (6.0.2)\n",
            "Requirement already satisfied: requests>=2.23.0 in /usr/local/lib/python3.10/dist-packages (from ultralytics) (2.32.3)\n",
            "Requirement already satisfied: scipy>=1.4.1 in /usr/local/lib/python3.10/dist-packages (from ultralytics) (1.13.1)\n",
            "Requirement already satisfied: torch>=1.8.0 in /usr/local/lib/python3.10/dist-packages (from ultralytics) (2.5.1+cu121)\n",
            "Requirement already satisfied: torchvision>=0.9.0 in /usr/local/lib/python3.10/dist-packages (from ultralytics) (0.20.1+cu121)\n",
            "Requirement already satisfied: tqdm>=4.64.0 in /usr/local/lib/python3.10/dist-packages (from ultralytics) (4.66.6)\n",
            "Requirement already satisfied: psutil in /usr/local/lib/python3.10/dist-packages (from ultralytics) (5.9.5)\n",
            "Requirement already satisfied: py-cpuinfo in /usr/local/lib/python3.10/dist-packages (from ultralytics) (9.0.0)\n",
            "Requirement already satisfied: pandas>=1.1.4 in /usr/local/lib/python3.10/dist-packages (from ultralytics) (2.2.2)\n",
            "Requirement already satisfied: seaborn>=0.11.0 in /usr/local/lib/python3.10/dist-packages (from ultralytics) (0.13.2)\n",
            "Collecting ultralytics-thop>=2.0.0 (from ultralytics)\n",
            "  Downloading ultralytics_thop-2.0.12-py3-none-any.whl.metadata (9.4 kB)\n",
            "Requirement already satisfied: contourpy>=1.0.1 in /usr/local/lib/python3.10/dist-packages (from matplotlib>=3.3.0->ultralytics) (1.3.1)\n",
            "Requirement already satisfied: cycler>=0.10 in /usr/local/lib/python3.10/dist-packages (from matplotlib>=3.3.0->ultralytics) (0.12.1)\n",
            "Requirement already satisfied: fonttools>=4.22.0 in /usr/local/lib/python3.10/dist-packages (from matplotlib>=3.3.0->ultralytics) (4.55.0)\n",
            "Requirement already satisfied: kiwisolver>=1.0.1 in /usr/local/lib/python3.10/dist-packages (from matplotlib>=3.3.0->ultralytics) (1.4.7)\n",
            "Requirement already satisfied: packaging>=20.0 in /usr/local/lib/python3.10/dist-packages (from matplotlib>=3.3.0->ultralytics) (24.2)\n",
            "Requirement already satisfied: pyparsing>=2.3.1 in /usr/local/lib/python3.10/dist-packages (from matplotlib>=3.3.0->ultralytics) (3.2.0)\n",
            "Requirement already satisfied: python-dateutil>=2.7 in /usr/local/lib/python3.10/dist-packages (from matplotlib>=3.3.0->ultralytics) (2.8.2)\n",
            "Requirement already satisfied: pytz>=2020.1 in /usr/local/lib/python3.10/dist-packages (from pandas>=1.1.4->ultralytics) (2024.2)\n",
            "Requirement already satisfied: tzdata>=2022.7 in /usr/local/lib/python3.10/dist-packages (from pandas>=1.1.4->ultralytics) (2024.2)\n",
            "Requirement already satisfied: charset-normalizer<4,>=2 in /usr/local/lib/python3.10/dist-packages (from requests>=2.23.0->ultralytics) (3.4.0)\n",
            "Requirement already satisfied: idna<4,>=2.5 in /usr/local/lib/python3.10/dist-packages (from requests>=2.23.0->ultralytics) (3.10)\n",
            "Requirement already satisfied: urllib3<3,>=1.21.1 in /usr/local/lib/python3.10/dist-packages (from requests>=2.23.0->ultralytics) (2.2.3)\n",
            "Requirement already satisfied: certifi>=2017.4.17 in /usr/local/lib/python3.10/dist-packages (from requests>=2.23.0->ultralytics) (2024.8.30)\n",
            "Requirement already satisfied: filelock in /usr/local/lib/python3.10/dist-packages (from torch>=1.8.0->ultralytics) (3.16.1)\n",
            "Requirement already satisfied: typing-extensions>=4.8.0 in /usr/local/lib/python3.10/dist-packages (from torch>=1.8.0->ultralytics) (4.12.2)\n",
            "Requirement already satisfied: networkx in /usr/local/lib/python3.10/dist-packages (from torch>=1.8.0->ultralytics) (3.4.2)\n",
            "Requirement already satisfied: jinja2 in /usr/local/lib/python3.10/dist-packages (from torch>=1.8.0->ultralytics) (3.1.4)\n",
            "Requirement already satisfied: fsspec in /usr/local/lib/python3.10/dist-packages (from torch>=1.8.0->ultralytics) (2024.10.0)\n",
            "Requirement already satisfied: sympy==1.13.1 in /usr/local/lib/python3.10/dist-packages (from torch>=1.8.0->ultralytics) (1.13.1)\n",
            "Requirement already satisfied: mpmath<1.4,>=1.1.0 in /usr/local/lib/python3.10/dist-packages (from sympy==1.13.1->torch>=1.8.0->ultralytics) (1.3.0)\n",
            "Requirement already satisfied: six>=1.5 in /usr/local/lib/python3.10/dist-packages (from python-dateutil>=2.7->matplotlib>=3.3.0->ultralytics) (1.16.0)\n",
            "Requirement already satisfied: MarkupSafe>=2.0 in /usr/local/lib/python3.10/dist-packages (from jinja2->torch>=1.8.0->ultralytics) (3.0.2)\n",
            "Downloading ultralytics-8.3.36-py3-none-any.whl (887 kB)\n",
            "\u001b[2K   \u001b[90m━━━━━━━━━━━━━━━━━━━━━━━━━━━━━━━━━━━━━━━━\u001b[0m \u001b[32m887.3/887.3 kB\u001b[0m \u001b[31m21.1 MB/s\u001b[0m eta \u001b[36m0:00:00\u001b[0m\n",
            "\u001b[?25hDownloading ultralytics_thop-2.0.12-py3-none-any.whl (26 kB)\n",
            "Installing collected packages: ultralytics-thop, ultralytics\n",
            "Successfully installed ultralytics-8.3.36 ultralytics-thop-2.0.12\n"
          ]
        }
      ],
      "source": [
        "!pip install ultralytics"
      ]
    },
    {
      "cell_type": "code",
      "execution_count": 2,
      "id": "00108a10",
      "metadata": {
        "id": "00108a10",
        "papermill": {
          "duration": 0.067928,
          "end_time": "2023-04-05T14:55:34.313052",
          "exception": false,
          "start_time": "2023-04-05T14:55:34.245124",
          "status": "completed"
        },
        "tags": []
      },
      "outputs": [],
      "source": [
        "import requests\n",
        "import zipfile\n",
        "import os\n",
        "import glob\n",
        "import cv2\n",
        "import matplotlib.pyplot as plt\n",
        "import random\n",
        "import numpy as np"
      ]
    },
    {
      "cell_type": "markdown",
      "id": "3d48b8be",
      "metadata": {
        "id": "3d48b8be",
        "papermill": {
          "duration": 0.00871,
          "end_time": "2023-04-05T14:55:34.330730",
          "exception": false,
          "start_time": "2023-04-05T14:55:34.322020",
          "status": "completed"
        },
        "tags": []
      },
      "source": [
        "## Download the Dataset\n"
      ]
    },
    {
      "cell_type": "code",
      "execution_count": 3,
      "id": "1f87cb2b",
      "metadata": {
        "id": "1f87cb2b",
        "papermill": {
          "duration": 0.018671,
          "end_time": "2023-04-05T14:55:34.358270",
          "exception": false,
          "start_time": "2023-04-05T14:55:34.339599",
          "status": "completed"
        },
        "tags": []
      },
      "outputs": [],
      "source": [
        "def download_file(url, save_name):\n",
        "    url = url\n",
        "    if not os.path.exists(save_name):\n",
        "        file = requests.get(url)\n",
        "        open(save_name, 'wb').write(file.content)"
      ]
    },
    {
      "cell_type": "code",
      "execution_count": 4,
      "id": "41d2a59c",
      "metadata": {
        "id": "41d2a59c",
        "papermill": {
          "duration": 0.016803,
          "end_time": "2023-04-05T14:55:34.383784",
          "exception": false,
          "start_time": "2023-04-05T14:55:34.366981",
          "status": "completed"
        },
        "tags": []
      },
      "outputs": [],
      "source": [
        "def unzip(zip_file=None):\n",
        "    try:\n",
        "        with zipfile.ZipFile(zip_file) as z:\n",
        "            z.extractall(\"./\")\n",
        "            print(\"Extracted all\")\n",
        "    except:\n",
        "        print(\"Invalid file\")"
      ]
    },
    {
      "cell_type": "code",
      "execution_count": 5,
      "id": "e8396b4f",
      "metadata": {
        "id": "e8396b4f",
        "outputId": "f07807f4-46fd-4deb-b719-88dea61f5746",
        "papermill": {
          "duration": 10.975212,
          "end_time": "2023-04-05T14:55:45.367645",
          "exception": false,
          "start_time": "2023-04-05T14:55:34.392433",
          "status": "completed"
        },
        "tags": [],
        "colab": {
          "base_uri": "https://localhost:8080/"
        }
      },
      "outputs": [
        {
          "output_type": "stream",
          "name": "stdout",
          "text": [
            "Extracted all\n"
          ]
        }
      ],
      "source": [
        "download_file(\n",
        "    'https://www.dropbox.com/s/ievh0sesad015z0/trash_inst_material.zip?dl=1',\n",
        "    'trash_inst_material.zip'\n",
        ")\n",
        "\n",
        "unzip(zip_file='trash_inst_material.zip')"
      ]
    },
    {
      "cell_type": "markdown",
      "id": "5eedb143",
      "metadata": {
        "id": "5eedb143",
        "papermill": {
          "duration": 0.008839,
          "end_time": "2023-04-05T14:55:45.385589",
          "exception": false,
          "start_time": "2023-04-05T14:55:45.376750",
          "status": "completed"
        },
        "tags": []
      },
      "source": [
        "## YOLO Dataset Label Format\n",
        "\n",
        "All the labels are available in the corresponding text files inside the `labels` directories. Modern YOLO models use the following format in the text files.\n",
        "\n",
        "`<class_number, x_center, y_center, normalized_width, normalized_height>`\n",
        "\n",
        "The `class_number` ranges from `0` to the `num_classes-1`. So, if there are 16 classes in the dataset, the `class_number` will range from 0-15.\n",
        "\n",
        "We will visit this again while preparing dataset YAML file."
      ]
    },
    {
      "cell_type": "markdown",
      "id": "5c702b65",
      "metadata": {
        "id": "5c702b65",
        "papermill": {
          "duration": 0.008578,
          "end_time": "2023-04-05T14:55:45.557675",
          "exception": false,
          "start_time": "2023-04-05T14:55:45.549097",
          "status": "completed"
        },
        "tags": []
      },
      "source": [
        "## Model YAML File\n",
        "\n",
        "In this section, we prepare the model YAML file. We have already covered the explanation of the YOLO YAML file in the YOLOv8 basic training notebook.\n",
        "\n",
        "To reiterate, the YAML contains the paths to the different dataset splits and the class names."
      ]
    },
    {
      "cell_type": "code",
      "execution_count": 6,
      "id": "0b00a4a1",
      "metadata": {
        "id": "0b00a4a1",
        "outputId": "6aebecf5-b9ef-40b6-e6e4-966d67e500b0",
        "papermill": {
          "duration": 0.016747,
          "end_time": "2023-04-05T14:55:45.583334",
          "exception": false,
          "start_time": "2023-04-05T14:55:45.566587",
          "status": "completed"
        },
        "tags": [],
        "colab": {
          "base_uri": "https://localhost:8080/"
        }
      },
      "outputs": [
        {
          "output_type": "stream",
          "name": "stdout",
          "text": [
            "/content\n"
          ]
        }
      ],
      "source": [
        "cwd = os.getcwd()\n",
        "print(cwd)"
      ]
    },
    {
      "cell_type": "code",
      "execution_count": 7,
      "id": "5a4c12a4",
      "metadata": {
        "id": "5a4c12a4",
        "papermill": {
          "duration": 0.035527,
          "end_time": "2023-04-05T14:55:45.627619",
          "exception": false,
          "start_time": "2023-04-05T14:55:45.592092",
          "status": "completed"
        },
        "tags": []
      },
      "outputs": [],
      "source": [
        "import yaml\n",
        "\n",
        "attr = {\n",
        "    'path': cwd+'/trash_inst_material',\n",
        "    'train': 'train/images',\n",
        "    'val': 'val/images',\n",
        "\n",
        "    'names': {\n",
        "        0: 'rov',\n",
        "        1: 'plant',\n",
        "        2: 'animal_fish',\n",
        "        3: 'animal_starfish',\n",
        "        4: 'animal_shells',\n",
        "        5: 'animal_crab',\n",
        "        6: 'animal_eel',\n",
        "        7: 'animal_etc',\n",
        "        8: 'trash_etc',\n",
        "        9: 'trash_fabric',\n",
        "        10: 'trash_fishing_gear',\n",
        "        11: 'trash_metal',\n",
        "        12: 'trash_paper',\n",
        "        13: 'trash_plastic',\n",
        "        14: 'trash_rubber',\n",
        "        15: 'trash_wood',\n",
        "    }\n",
        "}"
      ]
    },
    {
      "cell_type": "code",
      "execution_count": 8,
      "id": "22aa43b7",
      "metadata": {
        "id": "22aa43b7",
        "papermill": {
          "duration": 0.018075,
          "end_time": "2023-04-05T14:55:45.654563",
          "exception": false,
          "start_time": "2023-04-05T14:55:45.636488",
          "status": "completed"
        },
        "tags": []
      },
      "outputs": [],
      "source": [
        "with open('trashcan_inst_material.yaml', 'w') as f:\n",
        "    yaml.dump(attr, f)"
      ]
    },
    {
      "cell_type": "markdown",
      "id": "750b46fc",
      "metadata": {
        "id": "750b46fc",
        "papermill": {
          "duration": 0.008647,
          "end_time": "2023-04-05T14:55:45.672105",
          "exception": false,
          "start_time": "2023-04-05T14:55:45.663458",
          "status": "completed"
        },
        "tags": []
      },
      "source": [
        "### **YOLOv8 Training**"
      ]
    },
    {
      "cell_type": "code",
      "execution_count": 16,
      "id": "bc82d3f7",
      "metadata": {
        "id": "bc82d3f7",
        "outputId": "28810927-3516-405b-e623-17f25519ce05",
        "papermill": {
          "duration": 15209.349365,
          "end_time": "2023-04-05T22:58:04.552225",
          "exception": false,
          "start_time": "2023-04-05T18:44:35.202860",
          "status": "completed"
        },
        "tags": [],
        "colab": {
          "base_uri": "https://localhost:8080/"
        }
      },
      "outputs": [
        {
          "output_type": "stream",
          "name": "stdout",
          "text": [
            "Downloading https://github.com/ultralytics/assets/releases/download/v8.3.0/yolov8s-seg.pt to 'yolov8s-seg.pt'...\n",
            "100% 22.8M/22.8M [00:00<00:00, 37.6MB/s]\n",
            "WARNING ⚠️ conflicting 'task=detect' passed with 'task=segment' model. Ignoring 'task=detect' and updating to 'task=segment' to match model.\n",
            "Ultralytics 8.3.36 🚀 Python-3.10.12 torch-2.5.1+cu121 CUDA:0 (Tesla T4, 15102MiB)\n",
            "\u001b[34m\u001b[1mengine/trainer: \u001b[0mtask=segment, mode=train, model=yolov8s-seg.pt, data=trashcan_inst_material.yaml, epochs=5, time=None, patience=100, batch=16, imgsz=640, save=True, save_period=-1, cache=False, device=None, workers=8, project=None, name=yolov8s-seg, exist_ok=True, pretrained=True, optimizer=auto, verbose=True, seed=0, deterministic=True, single_cls=False, rect=False, cos_lr=False, close_mosaic=10, resume=False, amp=False, fraction=1.0, profile=False, freeze=None, multi_scale=False, overlap_mask=True, mask_ratio=4, dropout=0.0, val=True, split=val, save_json=False, save_hybrid=False, conf=None, iou=0.7, max_det=300, half=False, dnn=False, plots=True, source=None, vid_stride=1, stream_buffer=False, visualize=False, augment=False, agnostic_nms=False, classes=None, retina_masks=False, embed=None, show=False, save_frames=False, save_txt=False, save_conf=False, save_crop=False, show_labels=True, show_conf=True, show_boxes=True, line_width=None, format=torchscript, keras=False, optimize=False, int8=False, dynamic=False, simplify=True, opset=None, workspace=4, nms=False, lr0=0.01, lrf=0.01, momentum=0.937, weight_decay=0.0005, warmup_epochs=3.0, warmup_momentum=0.8, warmup_bias_lr=0.1, box=7.5, cls=0.5, dfl=1.5, pose=12.0, kobj=1.0, label_smoothing=0.0, nbs=64, hsv_h=0.015, hsv_s=0.7, hsv_v=0.4, degrees=0.0, translate=0.1, scale=0.5, shear=0.0, perspective=0.0, flipud=0.0, fliplr=0.5, bgr=0.0, mosaic=1.0, mixup=0.0, copy_paste=0.0, copy_paste_mode=flip, auto_augment=randaugment, erasing=0.4, crop_fraction=1.0, cfg=None, tracker=botsort.yaml, save_dir=runs/segment/yolov8s-seg\n",
            "Overriding model.yaml nc=80 with nc=16\n",
            "\n",
            "                   from  n    params  module                                       arguments                     \n",
            "  0                  -1  1       928  ultralytics.nn.modules.conv.Conv             [3, 32, 3, 2]                 \n",
            "  1                  -1  1     18560  ultralytics.nn.modules.conv.Conv             [32, 64, 3, 2]                \n",
            "  2                  -1  1     29056  ultralytics.nn.modules.block.C2f             [64, 64, 1, True]             \n",
            "  3                  -1  1     73984  ultralytics.nn.modules.conv.Conv             [64, 128, 3, 2]               \n",
            "  4                  -1  2    197632  ultralytics.nn.modules.block.C2f             [128, 128, 2, True]           \n",
            "  5                  -1  1    295424  ultralytics.nn.modules.conv.Conv             [128, 256, 3, 2]              \n",
            "  6                  -1  2    788480  ultralytics.nn.modules.block.C2f             [256, 256, 2, True]           \n",
            "  7                  -1  1   1180672  ultralytics.nn.modules.conv.Conv             [256, 512, 3, 2]              \n",
            "  8                  -1  1   1838080  ultralytics.nn.modules.block.C2f             [512, 512, 1, True]           \n",
            "  9                  -1  1    656896  ultralytics.nn.modules.block.SPPF            [512, 512, 5]                 \n",
            " 10                  -1  1         0  torch.nn.modules.upsampling.Upsample         [None, 2, 'nearest']          \n",
            " 11             [-1, 6]  1         0  ultralytics.nn.modules.conv.Concat           [1]                           \n",
            " 12                  -1  1    591360  ultralytics.nn.modules.block.C2f             [768, 256, 1]                 \n",
            " 13                  -1  1         0  torch.nn.modules.upsampling.Upsample         [None, 2, 'nearest']          \n",
            " 14             [-1, 4]  1         0  ultralytics.nn.modules.conv.Concat           [1]                           \n",
            " 15                  -1  1    148224  ultralytics.nn.modules.block.C2f             [384, 128, 1]                 \n",
            " 16                  -1  1    147712  ultralytics.nn.modules.conv.Conv             [128, 128, 3, 2]              \n",
            " 17            [-1, 12]  1         0  ultralytics.nn.modules.conv.Concat           [1]                           \n",
            " 18                  -1  1    493056  ultralytics.nn.modules.block.C2f             [384, 256, 1]                 \n",
            " 19                  -1  1    590336  ultralytics.nn.modules.conv.Conv             [256, 256, 3, 2]              \n",
            " 20             [-1, 9]  1         0  ultralytics.nn.modules.conv.Concat           [1]                           \n",
            " 21                  -1  1   1969152  ultralytics.nn.modules.block.C2f             [768, 512, 1]                 \n",
            " 22        [15, 18, 21]  1   2776736  ultralytics.nn.modules.head.Segment          [16, 32, 128, [128, 256, 512]]\n",
            "YOLOv8s-seg summary: 261 layers, 11,796,288 parameters, 11,796,272 gradients, 42.7 GFLOPs\n",
            "\n",
            "Transferred 411/417 items from pretrained weights\n",
            "\u001b[34m\u001b[1mTensorBoard: \u001b[0mStart with 'tensorboard --logdir runs/segment/yolov8s-seg', view at http://localhost:6006/\n",
            "Freezing layer 'model.22.dfl.conv.weight'\n",
            "\u001b[34m\u001b[1mtrain: \u001b[0mScanning /content/trash_inst_material/train/labels.cache... 6008 images, 0 backgrounds, 330 corrupt: 100% 6008/6008 [00:00<?, ?it/s]\n",
            "\u001b[34m\u001b[1mtrain: \u001b[0mWARNING ⚠️ /content/trash_inst_material/train/images/vid_000052_frame0000054.jpg: ignoring corrupt image/label: non-normalized or out of bounds coordinates [     1.0037]\n",
            "\u001b[34m\u001b[1mtrain: \u001b[0mWARNING ⚠️ /content/trash_inst_material/train/images/vid_000052_frame0000056.jpg: ignoring corrupt image/label: non-normalized or out of bounds coordinates [     1.0021      1.0037      1.0037]\n",
            "\u001b[34m\u001b[1mtrain: \u001b[0mWARNING ⚠️ /content/trash_inst_material/train/images/vid_000052_frame0000058.jpg: ignoring corrupt image/label: non-normalized or out of bounds coordinates [     1.0037      1.0037]\n",
            "\u001b[34m\u001b[1mtrain: \u001b[0mWARNING ⚠️ /content/trash_inst_material/train/images/vid_000052_frame0000060.jpg: ignoring corrupt image/label: non-normalized or out of bounds coordinates [     1.0021      1.0037]\n",
            "\u001b[34m\u001b[1mtrain: \u001b[0mWARNING ⚠️ /content/trash_inst_material/train/images/vid_000052_frame0000062.jpg: ignoring corrupt image/label: non-normalized or out of bounds coordinates [     1.0021      1.0037]\n",
            "\u001b[34m\u001b[1mtrain: \u001b[0mWARNING ⚠️ /content/trash_inst_material/train/images/vid_000052_frame0000080.jpg: ignoring corrupt image/label: non-normalized or out of bounds coordinates [     1.0021      1.0037]\n",
            "\u001b[34m\u001b[1mtrain: \u001b[0mWARNING ⚠️ /content/trash_inst_material/train/images/vid_000052_frame0000082.jpg: ignoring corrupt image/label: non-normalized or out of bounds coordinates [     1.0037]\n",
            "\u001b[34m\u001b[1mtrain: \u001b[0mWARNING ⚠️ /content/trash_inst_material/train/images/vid_000052_frame0000084.jpg: ignoring corrupt image/label: non-normalized or out of bounds coordinates [     1.0021      1.0037]\n",
            "\u001b[34m\u001b[1mtrain: \u001b[0mWARNING ⚠️ /content/trash_inst_material/train/images/vid_000052_frame0000086.jpg: ignoring corrupt image/label: non-normalized or out of bounds coordinates [     1.0037]\n",
            "\u001b[34m\u001b[1mtrain: \u001b[0mWARNING ⚠️ /content/trash_inst_material/train/images/vid_000052_frame0000087.jpg: ignoring corrupt image/label: non-normalized or out of bounds coordinates [     1.0021]\n",
            "\u001b[34m\u001b[1mtrain: \u001b[0mWARNING ⚠️ /content/trash_inst_material/train/images/vid_000053_frame0000003.jpg: ignoring corrupt image/label: non-normalized or out of bounds coordinates [     1.0037]\n",
            "\u001b[34m\u001b[1mtrain: \u001b[0mWARNING ⚠️ /content/trash_inst_material/train/images/vid_000053_frame0000004.jpg: ignoring corrupt image/label: non-normalized or out of bounds coordinates [     1.0037]\n",
            "\u001b[34m\u001b[1mtrain: \u001b[0mWARNING ⚠️ /content/trash_inst_material/train/images/vid_000053_frame0000005.jpg: ignoring corrupt image/label: non-normalized or out of bounds coordinates [     1.0018]\n",
            "\u001b[34m\u001b[1mtrain: \u001b[0mWARNING ⚠️ /content/trash_inst_material/train/images/vid_000053_frame0000012.jpg: ignoring corrupt image/label: non-normalized or out of bounds coordinates [     1.0037]\n",
            "\u001b[34m\u001b[1mtrain: \u001b[0mWARNING ⚠️ /content/trash_inst_material/train/images/vid_000053_frame0000013.jpg: ignoring corrupt image/label: non-normalized or out of bounds coordinates [     1.0037]\n",
            "\u001b[34m\u001b[1mtrain: \u001b[0mWARNING ⚠️ /content/trash_inst_material/train/images/vid_000053_frame0000014.jpg: ignoring corrupt image/label: non-normalized or out of bounds coordinates [     1.0037]\n",
            "\u001b[34m\u001b[1mtrain: \u001b[0mWARNING ⚠️ /content/trash_inst_material/train/images/vid_000053_frame0000015.jpg: ignoring corrupt image/label: non-normalized or out of bounds coordinates [     1.0037]\n",
            "\u001b[34m\u001b[1mtrain: \u001b[0mWARNING ⚠️ /content/trash_inst_material/train/images/vid_000053_frame0000016.jpg: ignoring corrupt image/label: non-normalized or out of bounds coordinates [     1.0037]\n",
            "\u001b[34m\u001b[1mtrain: \u001b[0mWARNING ⚠️ /content/trash_inst_material/train/images/vid_000053_frame0000017.jpg: ignoring corrupt image/label: non-normalized or out of bounds coordinates [     1.0037]\n",
            "\u001b[34m\u001b[1mtrain: \u001b[0mWARNING ⚠️ /content/trash_inst_material/train/images/vid_000053_frame0000018.jpg: ignoring corrupt image/label: non-normalized or out of bounds coordinates [     1.0037]\n",
            "\u001b[34m\u001b[1mtrain: \u001b[0mWARNING ⚠️ /content/trash_inst_material/train/images/vid_000053_frame0000035.jpg: ignoring corrupt image/label: non-normalized or out of bounds coordinates [     1.0037]\n",
            "\u001b[34m\u001b[1mtrain: \u001b[0mWARNING ⚠️ /content/trash_inst_material/train/images/vid_000055_frame0000005.jpg: ignoring corrupt image/label: non-normalized or out of bounds coordinates [     1.0021      1.0037]\n",
            "\u001b[34m\u001b[1mtrain: \u001b[0mWARNING ⚠️ /content/trash_inst_material/train/images/vid_000055_frame0000015.jpg: ignoring corrupt image/label: non-normalized or out of bounds coordinates [     1.0037]\n",
            "\u001b[34m\u001b[1mtrain: \u001b[0mWARNING ⚠️ /content/trash_inst_material/train/images/vid_000055_frame0000020.jpg: ignoring corrupt image/label: non-normalized or out of bounds coordinates [     1.0021      1.0037]\n",
            "\u001b[34m\u001b[1mtrain: \u001b[0mWARNING ⚠️ /content/trash_inst_material/train/images/vid_000055_frame0000025.jpg: ignoring corrupt image/label: non-normalized or out of bounds coordinates [     1.0021]\n",
            "\u001b[34m\u001b[1mtrain: \u001b[0mWARNING ⚠️ /content/trash_inst_material/train/images/vid_000055_frame0000030.jpg: ignoring corrupt image/label: non-normalized or out of bounds coordinates [     1.0021]\n",
            "\u001b[34m\u001b[1mtrain: \u001b[0mWARNING ⚠️ /content/trash_inst_material/train/images/vid_000055_frame0000045.jpg: ignoring corrupt image/label: non-normalized or out of bounds coordinates [     1.0021]\n",
            "\u001b[34m\u001b[1mtrain: \u001b[0mWARNING ⚠️ /content/trash_inst_material/train/images/vid_000055_frame0000049.jpg: ignoring corrupt image/label: non-normalized or out of bounds coordinates [     1.0021]\n",
            "\u001b[34m\u001b[1mtrain: \u001b[0mWARNING ⚠️ /content/trash_inst_material/train/images/vid_000055_frame0000055.jpg: ignoring corrupt image/label: non-normalized or out of bounds coordinates [     1.0021]\n",
            "\u001b[34m\u001b[1mtrain: \u001b[0mWARNING ⚠️ /content/trash_inst_material/train/images/vid_000055_frame0000245.jpg: ignoring corrupt image/label: non-normalized or out of bounds coordinates [     1.0021      1.0037      1.0037]\n",
            "\u001b[34m\u001b[1mtrain: \u001b[0mWARNING ⚠️ /content/trash_inst_material/train/images/vid_000072_frame0000001.jpg: ignoring corrupt image/label: non-normalized or out of bounds coordinates [     1.0037]\n",
            "\u001b[34m\u001b[1mtrain: \u001b[0mWARNING ⚠️ /content/trash_inst_material/train/images/vid_000072_frame0000004.jpg: ignoring corrupt image/label: non-normalized or out of bounds coordinates [     1.0037]\n",
            "\u001b[34m\u001b[1mtrain: \u001b[0mWARNING ⚠️ /content/trash_inst_material/train/images/vid_000072_frame0000008.jpg: ignoring corrupt image/label: non-normalized or out of bounds coordinates [     1.0037]\n",
            "\u001b[34m\u001b[1mtrain: \u001b[0mWARNING ⚠️ /content/trash_inst_material/train/images/vid_000072_frame0000012.jpg: ignoring corrupt image/label: non-normalized or out of bounds coordinates [     1.0037]\n",
            "\u001b[34m\u001b[1mtrain: \u001b[0mWARNING ⚠️ /content/trash_inst_material/train/images/vid_000072_frame0000020.jpg: ignoring corrupt image/label: non-normalized or out of bounds coordinates [     1.0037]\n",
            "\u001b[34m\u001b[1mtrain: \u001b[0mWARNING ⚠️ /content/trash_inst_material/train/images/vid_000072_frame0000024.jpg: ignoring corrupt image/label: non-normalized or out of bounds coordinates [     1.0037]\n",
            "\u001b[34m\u001b[1mtrain: \u001b[0mWARNING ⚠️ /content/trash_inst_material/train/images/vid_000072_frame0000028.jpg: ignoring corrupt image/label: non-normalized or out of bounds coordinates [     1.0037]\n",
            "\u001b[34m\u001b[1mtrain: \u001b[0mWARNING ⚠️ /content/trash_inst_material/train/images/vid_000072_frame0000032.jpg: ignoring corrupt image/label: non-normalized or out of bounds coordinates [     1.0037]\n",
            "\u001b[34m\u001b[1mtrain: \u001b[0mWARNING ⚠️ /content/trash_inst_material/train/images/vid_000072_frame0000036.jpg: ignoring corrupt image/label: non-normalized or out of bounds coordinates [     1.0037]\n",
            "\u001b[34m\u001b[1mtrain: \u001b[0mWARNING ⚠️ /content/trash_inst_material/train/images/vid_000075_frame0000049.jpg: ignoring corrupt image/label: non-normalized or out of bounds coordinates [     1.0021]\n",
            "\u001b[34m\u001b[1mtrain: \u001b[0mWARNING ⚠️ /content/trash_inst_material/train/images/vid_000075_frame0000095.jpg: ignoring corrupt image/label: non-normalized or out of bounds coordinates [     1.0037]\n",
            "\u001b[34m\u001b[1mtrain: \u001b[0mWARNING ⚠️ /content/trash_inst_material/train/images/vid_000078_frame0000033.jpg: ignoring corrupt image/label: non-normalized or out of bounds coordinates [     1.0021]\n",
            "\u001b[34m\u001b[1mtrain: \u001b[0mWARNING ⚠️ /content/trash_inst_material/train/images/vid_000082_frame0000011.jpg: ignoring corrupt image/label: non-normalized or out of bounds coordinates [     1.0037]\n",
            "\u001b[34m\u001b[1mtrain: \u001b[0mWARNING ⚠️ /content/trash_inst_material/train/images/vid_000082_frame0000012.jpg: ignoring corrupt image/label: non-normalized or out of bounds coordinates [     1.0037]\n",
            "\u001b[34m\u001b[1mtrain: \u001b[0mWARNING ⚠️ /content/trash_inst_material/train/images/vid_000088_frame0000030.jpg: ignoring corrupt image/label: non-normalized or out of bounds coordinates [     1.0037]\n",
            "\u001b[34m\u001b[1mtrain: \u001b[0mWARNING ⚠️ /content/trash_inst_material/train/images/vid_000089_frame0000028.jpg: ignoring corrupt image/label: non-normalized or out of bounds coordinates [     1.0037]\n",
            "\u001b[34m\u001b[1mtrain: \u001b[0mWARNING ⚠️ /content/trash_inst_material/train/images/vid_000090_frame0000018.jpg: ignoring corrupt image/label: non-normalized or out of bounds coordinates [     1.0021      1.0037]\n",
            "\u001b[34m\u001b[1mtrain: \u001b[0mWARNING ⚠️ /content/trash_inst_material/train/images/vid_000090_frame0000030.jpg: ignoring corrupt image/label: non-normalized or out of bounds coordinates [     1.0021      1.0037]\n",
            "\u001b[34m\u001b[1mtrain: \u001b[0mWARNING ⚠️ /content/trash_inst_material/train/images/vid_000090_frame0000065.jpg: ignoring corrupt image/label: non-normalized or out of bounds coordinates [     1.0037]\n",
            "\u001b[34m\u001b[1mtrain: \u001b[0mWARNING ⚠️ /content/trash_inst_material/train/images/vid_000094_frame0000068.jpg: ignoring corrupt image/label: non-normalized or out of bounds coordinates [     1.0037]\n",
            "\u001b[34m\u001b[1mtrain: \u001b[0mWARNING ⚠️ /content/trash_inst_material/train/images/vid_000095_frame0000019.jpg: ignoring corrupt image/label: non-normalized or out of bounds coordinates [     1.0037      1.0037]\n",
            "\u001b[34m\u001b[1mtrain: \u001b[0mWARNING ⚠️ /content/trash_inst_material/train/images/vid_000095_frame0000021.jpg: ignoring corrupt image/label: non-normalized or out of bounds coordinates [     1.0037      1.0037      1.0037]\n",
            "\u001b[34m\u001b[1mtrain: \u001b[0mWARNING ⚠️ /content/trash_inst_material/train/images/vid_000110_frame0000002.jpg: ignoring corrupt image/label: non-normalized or out of bounds coordinates [     1.0037]\n",
            "\u001b[34m\u001b[1mtrain: \u001b[0mWARNING ⚠️ /content/trash_inst_material/train/images/vid_000113_frame0000008.jpg: ignoring corrupt image/label: non-normalized or out of bounds coordinates [     1.0021]\n",
            "\u001b[34m\u001b[1mtrain: \u001b[0mWARNING ⚠️ /content/trash_inst_material/train/images/vid_000113_frame0000009.jpg: ignoring corrupt image/label: non-normalized or out of bounds coordinates [     1.0028]\n",
            "\u001b[34m\u001b[1mtrain: \u001b[0mWARNING ⚠️ /content/trash_inst_material/train/images/vid_000113_frame0000010.jpg: ignoring corrupt image/label: non-normalized or out of bounds coordinates [     1.0028]\n",
            "\u001b[34m\u001b[1mtrain: \u001b[0mWARNING ⚠️ /content/trash_inst_material/train/images/vid_000113_frame0000011.jpg: ignoring corrupt image/label: non-normalized or out of bounds coordinates [     1.0021      1.0028]\n",
            "\u001b[34m\u001b[1mtrain: \u001b[0mWARNING ⚠️ /content/trash_inst_material/train/images/vid_000113_frame0000012.jpg: ignoring corrupt image/label: non-normalized or out of bounds coordinates [     1.0021      1.0028]\n",
            "\u001b[34m\u001b[1mtrain: \u001b[0mWARNING ⚠️ /content/trash_inst_material/train/images/vid_000113_frame0000013.jpg: ignoring corrupt image/label: non-normalized or out of bounds coordinates [     1.0021]\n",
            "\u001b[34m\u001b[1mtrain: \u001b[0mWARNING ⚠️ /content/trash_inst_material/train/images/vid_000113_frame0000014.jpg: ignoring corrupt image/label: non-normalized or out of bounds coordinates [     1.0021      1.0028]\n",
            "\u001b[34m\u001b[1mtrain: \u001b[0mWARNING ⚠️ /content/trash_inst_material/train/images/vid_000113_frame0000015.jpg: ignoring corrupt image/label: non-normalized or out of bounds coordinates [     1.0021      1.0028]\n",
            "\u001b[34m\u001b[1mtrain: \u001b[0mWARNING ⚠️ /content/trash_inst_material/train/images/vid_000113_frame0000016.jpg: ignoring corrupt image/label: non-normalized or out of bounds coordinates [     1.0028]\n",
            "\u001b[34m\u001b[1mtrain: \u001b[0mWARNING ⚠️ /content/trash_inst_material/train/images/vid_000113_frame0000017.jpg: ignoring corrupt image/label: non-normalized or out of bounds coordinates [     1.0021      1.0028]\n",
            "\u001b[34m\u001b[1mtrain: \u001b[0mWARNING ⚠️ /content/trash_inst_material/train/images/vid_000113_frame0000018.jpg: ignoring corrupt image/label: non-normalized or out of bounds coordinates [     1.0021      1.0028]\n",
            "\u001b[34m\u001b[1mtrain: \u001b[0mWARNING ⚠️ /content/trash_inst_material/train/images/vid_000113_frame0000019.jpg: ignoring corrupt image/label: non-normalized or out of bounds coordinates [     1.0028]\n",
            "\u001b[34m\u001b[1mtrain: \u001b[0mWARNING ⚠️ /content/trash_inst_material/train/images/vid_000113_frame0000021.jpg: ignoring corrupt image/label: non-normalized or out of bounds coordinates [     1.0021      1.0028]\n",
            "\u001b[34m\u001b[1mtrain: \u001b[0mWARNING ⚠️ /content/trash_inst_material/train/images/vid_000113_frame0000022.jpg: ignoring corrupt image/label: non-normalized or out of bounds coordinates [     1.0019      1.0028]\n",
            "\u001b[34m\u001b[1mtrain: \u001b[0mWARNING ⚠️ /content/trash_inst_material/train/images/vid_000113_frame0000023.jpg: ignoring corrupt image/label: non-normalized or out of bounds coordinates [     1.0028]\n",
            "\u001b[34m\u001b[1mtrain: \u001b[0mWARNING ⚠️ /content/trash_inst_material/train/images/vid_000113_frame0000024.jpg: ignoring corrupt image/label: non-normalized or out of bounds coordinates [     1.0021      1.0027]\n",
            "\u001b[34m\u001b[1mtrain: \u001b[0mWARNING ⚠️ /content/trash_inst_material/train/images/vid_000114_frame0000018.jpg: ignoring corrupt image/label: non-normalized or out of bounds coordinates [     1.0037]\n",
            "\u001b[34m\u001b[1mtrain: \u001b[0mWARNING ⚠️ /content/trash_inst_material/train/images/vid_000114_frame0000021.jpg: ignoring corrupt image/label: non-normalized or out of bounds coordinates [     1.0037]\n",
            "\u001b[34m\u001b[1mtrain: \u001b[0mWARNING ⚠️ /content/trash_inst_material/train/images/vid_000114_frame0000025.jpg: ignoring corrupt image/label: non-normalized or out of bounds coordinates [     1.0037]\n",
            "\u001b[34m\u001b[1mtrain: \u001b[0mWARNING ⚠️ /content/trash_inst_material/train/images/vid_000114_frame0000030.jpg: ignoring corrupt image/label: non-normalized or out of bounds coordinates [     1.0037]\n",
            "\u001b[34m\u001b[1mtrain: \u001b[0mWARNING ⚠️ /content/trash_inst_material/train/images/vid_000114_frame0000031.jpg: ignoring corrupt image/label: non-normalized or out of bounds coordinates [     1.0037]\n",
            "\u001b[34m\u001b[1mtrain: \u001b[0mWARNING ⚠️ /content/trash_inst_material/train/images/vid_000114_frame0000034.jpg: ignoring corrupt image/label: non-normalized or out of bounds coordinates [     1.0037]\n",
            "\u001b[34m\u001b[1mtrain: \u001b[0mWARNING ⚠️ /content/trash_inst_material/train/images/vid_000114_frame0000036.jpg: ignoring corrupt image/label: non-normalized or out of bounds coordinates [     1.0037]\n",
            "\u001b[34m\u001b[1mtrain: \u001b[0mWARNING ⚠️ /content/trash_inst_material/train/images/vid_000114_frame0000052.jpg: ignoring corrupt image/label: non-normalized or out of bounds coordinates [     1.0037]\n",
            "\u001b[34m\u001b[1mtrain: \u001b[0mWARNING ⚠️ /content/trash_inst_material/train/images/vid_000114_frame0000054.jpg: ignoring corrupt image/label: non-normalized or out of bounds coordinates [     1.0037]\n",
            "\u001b[34m\u001b[1mtrain: \u001b[0mWARNING ⚠️ /content/trash_inst_material/train/images/vid_000115_frame0000010.jpg: ignoring corrupt image/label: non-normalized or out of bounds coordinates [     1.0037]\n",
            "\u001b[34m\u001b[1mtrain: \u001b[0mWARNING ⚠️ /content/trash_inst_material/train/images/vid_000115_frame0000013.jpg: ignoring corrupt image/label: non-normalized or out of bounds coordinates [     1.0037]\n",
            "\u001b[34m\u001b[1mtrain: \u001b[0mWARNING ⚠️ /content/trash_inst_material/train/images/vid_000125_frame0000004.jpg: ignoring corrupt image/label: non-normalized or out of bounds coordinates [     1.0037]\n",
            "\u001b[34m\u001b[1mtrain: \u001b[0mWARNING ⚠️ /content/trash_inst_material/train/images/vid_000125_frame0000005.jpg: ignoring corrupt image/label: non-normalized or out of bounds coordinates [     1.0037]\n",
            "\u001b[34m\u001b[1mtrain: \u001b[0mWARNING ⚠️ /content/trash_inst_material/train/images/vid_000125_frame0000006.jpg: ignoring corrupt image/label: non-normalized or out of bounds coordinates [     1.0037]\n",
            "\u001b[34m\u001b[1mtrain: \u001b[0mWARNING ⚠️ /content/trash_inst_material/train/images/vid_000125_frame0000007.jpg: ignoring corrupt image/label: non-normalized or out of bounds coordinates [     1.0037]\n",
            "\u001b[34m\u001b[1mtrain: \u001b[0mWARNING ⚠️ /content/trash_inst_material/train/images/vid_000125_frame0000008.jpg: ignoring corrupt image/label: non-normalized or out of bounds coordinates [     1.0037]\n",
            "\u001b[34m\u001b[1mtrain: \u001b[0mWARNING ⚠️ /content/trash_inst_material/train/images/vid_000125_frame0000009.jpg: ignoring corrupt image/label: non-normalized or out of bounds coordinates [     1.0037]\n",
            "\u001b[34m\u001b[1mtrain: \u001b[0mWARNING ⚠️ /content/trash_inst_material/train/images/vid_000125_frame0000010.jpg: ignoring corrupt image/label: non-normalized or out of bounds coordinates [     1.0037]\n",
            "\u001b[34m\u001b[1mtrain: \u001b[0mWARNING ⚠️ /content/trash_inst_material/train/images/vid_000125_frame0000011.jpg: ignoring corrupt image/label: non-normalized or out of bounds coordinates [     1.0037]\n",
            "\u001b[34m\u001b[1mtrain: \u001b[0mWARNING ⚠️ /content/trash_inst_material/train/images/vid_000125_frame0000012.jpg: ignoring corrupt image/label: non-normalized or out of bounds coordinates [     1.0037]\n",
            "\u001b[34m\u001b[1mtrain: \u001b[0mWARNING ⚠️ /content/trash_inst_material/train/images/vid_000125_frame0000019.jpg: ignoring corrupt image/label: non-normalized or out of bounds coordinates [     1.0037]\n",
            "\u001b[34m\u001b[1mtrain: \u001b[0mWARNING ⚠️ /content/trash_inst_material/train/images/vid_000125_frame0000023.jpg: ignoring corrupt image/label: non-normalized or out of bounds coordinates [     1.0037]\n",
            "\u001b[34m\u001b[1mtrain: \u001b[0mWARNING ⚠️ /content/trash_inst_material/train/images/vid_000126_frame0000005.jpg: ignoring corrupt image/label: non-normalized or out of bounds coordinates [     1.0037]\n",
            "\u001b[34m\u001b[1mtrain: \u001b[0mWARNING ⚠️ /content/trash_inst_material/train/images/vid_000126_frame0000007.jpg: ignoring corrupt image/label: non-normalized or out of bounds coordinates [     1.0037]\n",
            "\u001b[34m\u001b[1mtrain: \u001b[0mWARNING ⚠️ /content/trash_inst_material/train/images/vid_000126_frame0000009.jpg: ignoring corrupt image/label: non-normalized or out of bounds coordinates [     1.0037]\n",
            "\u001b[34m\u001b[1mtrain: \u001b[0mWARNING ⚠️ /content/trash_inst_material/train/images/vid_000126_frame0000011.jpg: ignoring corrupt image/label: non-normalized or out of bounds coordinates [     1.0037]\n",
            "\u001b[34m\u001b[1mtrain: \u001b[0mWARNING ⚠️ /content/trash_inst_material/train/images/vid_000142_frame0000039.jpg: ignoring corrupt image/label: non-normalized or out of bounds coordinates [      1.002]\n",
            "\u001b[34m\u001b[1mtrain: \u001b[0mWARNING ⚠️ /content/trash_inst_material/train/images/vid_000142_frame0000102.jpg: ignoring corrupt image/label: non-normalized or out of bounds coordinates [     1.0037]\n",
            "\u001b[34m\u001b[1mtrain: \u001b[0mWARNING ⚠️ /content/trash_inst_material/train/images/vid_000142_frame0000103.jpg: ignoring corrupt image/label: non-normalized or out of bounds coordinates [     1.0037]\n",
            "\u001b[34m\u001b[1mtrain: \u001b[0mWARNING ⚠️ /content/trash_inst_material/train/images/vid_000142_frame0000105.jpg: ignoring corrupt image/label: non-normalized or out of bounds coordinates [     1.0036]\n",
            "\u001b[34m\u001b[1mtrain: \u001b[0mWARNING ⚠️ /content/trash_inst_material/train/images/vid_000142_frame0000107.jpg: ignoring corrupt image/label: non-normalized or out of bounds coordinates [     1.0037]\n",
            "\u001b[34m\u001b[1mtrain: \u001b[0mWARNING ⚠️ /content/trash_inst_material/train/images/vid_000142_frame0000122.jpg: ignoring corrupt image/label: non-normalized or out of bounds coordinates [     1.0021]\n",
            "\u001b[34m\u001b[1mtrain: \u001b[0mWARNING ⚠️ /content/trash_inst_material/train/images/vid_000142_frame0000124.jpg: ignoring corrupt image/label: non-normalized or out of bounds coordinates [     1.0021]\n",
            "\u001b[34m\u001b[1mtrain: \u001b[0mWARNING ⚠️ /content/trash_inst_material/train/images/vid_000142_frame0000125.jpg: ignoring corrupt image/label: non-normalized or out of bounds coordinates [     1.0037]\n",
            "\u001b[34m\u001b[1mtrain: \u001b[0mWARNING ⚠️ /content/trash_inst_material/train/images/vid_000142_frame0000127.jpg: ignoring corrupt image/label: non-normalized or out of bounds coordinates [     1.0021]\n",
            "\u001b[34m\u001b[1mtrain: \u001b[0mWARNING ⚠️ /content/trash_inst_material/train/images/vid_000147_frame0000002.jpg: ignoring corrupt image/label: non-normalized or out of bounds coordinates [     1.0037]\n",
            "\u001b[34m\u001b[1mtrain: \u001b[0mWARNING ⚠️ /content/trash_inst_material/train/images/vid_000147_frame0000003.jpg: ignoring corrupt image/label: non-normalized or out of bounds coordinates [     1.0037]\n",
            "\u001b[34m\u001b[1mtrain: \u001b[0mWARNING ⚠️ /content/trash_inst_material/train/images/vid_000147_frame0000006.jpg: ignoring corrupt image/label: non-normalized or out of bounds coordinates [     1.0037]\n",
            "\u001b[34m\u001b[1mtrain: \u001b[0mWARNING ⚠️ /content/trash_inst_material/train/images/vid_000147_frame0000012.jpg: ignoring corrupt image/label: non-normalized or out of bounds coordinates [     1.0037]\n",
            "\u001b[34m\u001b[1mtrain: \u001b[0mWARNING ⚠️ /content/trash_inst_material/train/images/vid_000147_frame0000013.jpg: ignoring corrupt image/label: non-normalized or out of bounds coordinates [     1.0037]\n",
            "\u001b[34m\u001b[1mtrain: \u001b[0mWARNING ⚠️ /content/trash_inst_material/train/images/vid_000150_frame0000039.jpg: ignoring corrupt image/label: non-normalized or out of bounds coordinates [     1.0028]\n",
            "\u001b[34m\u001b[1mtrain: \u001b[0mWARNING ⚠️ /content/trash_inst_material/train/images/vid_000150_frame0000043.jpg: ignoring corrupt image/label: non-normalized or out of bounds coordinates [     1.0028]\n",
            "\u001b[34m\u001b[1mtrain: \u001b[0mWARNING ⚠️ /content/trash_inst_material/train/images/vid_000150_frame0000045.jpg: ignoring corrupt image/label: non-normalized or out of bounds coordinates [     1.0028]\n",
            "\u001b[34m\u001b[1mtrain: \u001b[0mWARNING ⚠️ /content/trash_inst_material/train/images/vid_000150_frame0000055.jpg: ignoring corrupt image/label: non-normalized or out of bounds coordinates [     1.0023]\n",
            "\u001b[34m\u001b[1mtrain: \u001b[0mWARNING ⚠️ /content/trash_inst_material/train/images/vid_000151_frame0000028.jpg: ignoring corrupt image/label: non-normalized or out of bounds coordinates [     1.0028]\n",
            "\u001b[34m\u001b[1mtrain: \u001b[0mWARNING ⚠️ /content/trash_inst_material/train/images/vid_000155_frame0000022.jpg: ignoring corrupt image/label: non-normalized or out of bounds coordinates [      1.002]\n",
            "\u001b[34m\u001b[1mtrain: \u001b[0mWARNING ⚠️ /content/trash_inst_material/train/images/vid_000155_frame0000023.jpg: ignoring corrupt image/label: non-normalized or out of bounds coordinates [     1.0021]\n",
            "\u001b[34m\u001b[1mtrain: \u001b[0mWARNING ⚠️ /content/trash_inst_material/train/images/vid_000155_frame0000024.jpg: ignoring corrupt image/label: non-normalized or out of bounds coordinates [     1.0021]\n",
            "\u001b[34m\u001b[1mtrain: \u001b[0mWARNING ⚠️ /content/trash_inst_material/train/images/vid_000155_frame0000025.jpg: ignoring corrupt image/label: non-normalized or out of bounds coordinates [     1.0021]\n",
            "\u001b[34m\u001b[1mtrain: \u001b[0mWARNING ⚠️ /content/trash_inst_material/train/images/vid_000155_frame0000026.jpg: ignoring corrupt image/label: non-normalized or out of bounds coordinates [     1.0021]\n",
            "\u001b[34m\u001b[1mtrain: \u001b[0mWARNING ⚠️ /content/trash_inst_material/train/images/vid_000155_frame0000044.jpg: ignoring corrupt image/label: non-normalized or out of bounds coordinates [     1.0037]\n",
            "\u001b[34m\u001b[1mtrain: \u001b[0mWARNING ⚠️ /content/trash_inst_material/train/images/vid_000155_frame0000045.jpg: ignoring corrupt image/label: non-normalized or out of bounds coordinates [     1.0037]\n",
            "\u001b[34m\u001b[1mtrain: \u001b[0mWARNING ⚠️ /content/trash_inst_material/train/images/vid_000155_frame0000048.jpg: ignoring corrupt image/label: non-normalized or out of bounds coordinates [     1.0037]\n",
            "\u001b[34m\u001b[1mtrain: \u001b[0mWARNING ⚠️ /content/trash_inst_material/train/images/vid_000155_frame0000051.jpg: ignoring corrupt image/label: non-normalized or out of bounds coordinates [     1.0037]\n",
            "\u001b[34m\u001b[1mtrain: \u001b[0mWARNING ⚠️ /content/trash_inst_material/train/images/vid_000155_frame0000056.jpg: ignoring corrupt image/label: non-normalized or out of bounds coordinates [     1.0037]\n",
            "\u001b[34m\u001b[1mtrain: \u001b[0mWARNING ⚠️ /content/trash_inst_material/train/images/vid_000155_frame0000059.jpg: ignoring corrupt image/label: non-normalized or out of bounds coordinates [     1.0036]\n",
            "\u001b[34m\u001b[1mtrain: \u001b[0mWARNING ⚠️ /content/trash_inst_material/train/images/vid_000157_frame0000001.jpg: ignoring corrupt image/label: non-normalized or out of bounds coordinates [     1.0021]\n",
            "\u001b[34m\u001b[1mtrain: \u001b[0mWARNING ⚠️ /content/trash_inst_material/train/images/vid_000157_frame0000002.jpg: ignoring corrupt image/label: non-normalized or out of bounds coordinates [     1.0021]\n",
            "\u001b[34m\u001b[1mtrain: \u001b[0mWARNING ⚠️ /content/trash_inst_material/train/images/vid_000157_frame0000003.jpg: ignoring corrupt image/label: non-normalized or out of bounds coordinates [     1.0021]\n",
            "\u001b[34m\u001b[1mtrain: \u001b[0mWARNING ⚠️ /content/trash_inst_material/train/images/vid_000157_frame0000004.jpg: ignoring corrupt image/label: non-normalized or out of bounds coordinates [     1.0021]\n",
            "\u001b[34m\u001b[1mtrain: \u001b[0mWARNING ⚠️ /content/trash_inst_material/train/images/vid_000157_frame0000005.jpg: ignoring corrupt image/label: non-normalized or out of bounds coordinates [     1.0021]\n",
            "\u001b[34m\u001b[1mtrain: \u001b[0mWARNING ⚠️ /content/trash_inst_material/train/images/vid_000157_frame0000006.jpg: ignoring corrupt image/label: non-normalized or out of bounds coordinates [     1.0021]\n",
            "\u001b[34m\u001b[1mtrain: \u001b[0mWARNING ⚠️ /content/trash_inst_material/train/images/vid_000157_frame0000007.jpg: ignoring corrupt image/label: non-normalized or out of bounds coordinates [     1.0021]\n",
            "\u001b[34m\u001b[1mtrain: \u001b[0mWARNING ⚠️ /content/trash_inst_material/train/images/vid_000157_frame0000008.jpg: ignoring corrupt image/label: non-normalized or out of bounds coordinates [     1.0021]\n",
            "\u001b[34m\u001b[1mtrain: \u001b[0mWARNING ⚠️ /content/trash_inst_material/train/images/vid_000157_frame0000009.jpg: ignoring corrupt image/label: non-normalized or out of bounds coordinates [     1.0021]\n",
            "\u001b[34m\u001b[1mtrain: \u001b[0mWARNING ⚠️ /content/trash_inst_material/train/images/vid_000157_frame0000010.jpg: ignoring corrupt image/label: non-normalized or out of bounds coordinates [     1.0021]\n",
            "\u001b[34m\u001b[1mtrain: \u001b[0mWARNING ⚠️ /content/trash_inst_material/train/images/vid_000157_frame0000011.jpg: ignoring corrupt image/label: non-normalized or out of bounds coordinates [     1.0021]\n",
            "\u001b[34m\u001b[1mtrain: \u001b[0mWARNING ⚠️ /content/trash_inst_material/train/images/vid_000157_frame0000012.jpg: ignoring corrupt image/label: non-normalized or out of bounds coordinates [     1.0021]\n",
            "\u001b[34m\u001b[1mtrain: \u001b[0mWARNING ⚠️ /content/trash_inst_material/train/images/vid_000157_frame0000013.jpg: ignoring corrupt image/label: non-normalized or out of bounds coordinates [     1.0021]\n",
            "\u001b[34m\u001b[1mtrain: \u001b[0mWARNING ⚠️ /content/trash_inst_material/train/images/vid_000157_frame0000014.jpg: ignoring corrupt image/label: non-normalized or out of bounds coordinates [     1.0021]\n",
            "\u001b[34m\u001b[1mtrain: \u001b[0mWARNING ⚠️ /content/trash_inst_material/train/images/vid_000157_frame0000015.jpg: ignoring corrupt image/label: non-normalized or out of bounds coordinates [     1.0021]\n",
            "\u001b[34m\u001b[1mtrain: \u001b[0mWARNING ⚠️ /content/trash_inst_material/train/images/vid_000157_frame0000016.jpg: ignoring corrupt image/label: non-normalized or out of bounds coordinates [     1.0021]\n",
            "\u001b[34m\u001b[1mtrain: \u001b[0mWARNING ⚠️ /content/trash_inst_material/train/images/vid_000157_frame0000017.jpg: ignoring corrupt image/label: non-normalized or out of bounds coordinates [     1.0021]\n",
            "\u001b[34m\u001b[1mtrain: \u001b[0mWARNING ⚠️ /content/trash_inst_material/train/images/vid_000157_frame0000018.jpg: ignoring corrupt image/label: non-normalized or out of bounds coordinates [     1.0021]\n",
            "\u001b[34m\u001b[1mtrain: \u001b[0mWARNING ⚠️ /content/trash_inst_material/train/images/vid_000157_frame0000019.jpg: ignoring corrupt image/label: non-normalized or out of bounds coordinates [     1.0021]\n",
            "\u001b[34m\u001b[1mtrain: \u001b[0mWARNING ⚠️ /content/trash_inst_material/train/images/vid_000157_frame0000020.jpg: ignoring corrupt image/label: non-normalized or out of bounds coordinates [     1.0021]\n",
            "\u001b[34m\u001b[1mtrain: \u001b[0mWARNING ⚠️ /content/trash_inst_material/train/images/vid_000157_frame0000021.jpg: ignoring corrupt image/label: non-normalized or out of bounds coordinates [     1.0021]\n",
            "\u001b[34m\u001b[1mtrain: \u001b[0mWARNING ⚠️ /content/trash_inst_material/train/images/vid_000157_frame0000022.jpg: ignoring corrupt image/label: non-normalized or out of bounds coordinates [     1.0021]\n",
            "\u001b[34m\u001b[1mtrain: \u001b[0mWARNING ⚠️ /content/trash_inst_material/train/images/vid_000157_frame0000023.jpg: ignoring corrupt image/label: non-normalized or out of bounds coordinates [     1.0021]\n",
            "\u001b[34m\u001b[1mtrain: \u001b[0mWARNING ⚠️ /content/trash_inst_material/train/images/vid_000157_frame0000024.jpg: ignoring corrupt image/label: non-normalized or out of bounds coordinates [     1.0021]\n",
            "\u001b[34m\u001b[1mtrain: \u001b[0mWARNING ⚠️ /content/trash_inst_material/train/images/vid_000157_frame0000025.jpg: ignoring corrupt image/label: non-normalized or out of bounds coordinates [     1.0021]\n",
            "\u001b[34m\u001b[1mtrain: \u001b[0mWARNING ⚠️ /content/trash_inst_material/train/images/vid_000157_frame0000027.jpg: ignoring corrupt image/label: non-normalized or out of bounds coordinates [     1.0021]\n",
            "\u001b[34m\u001b[1mtrain: \u001b[0mWARNING ⚠️ /content/trash_inst_material/train/images/vid_000157_frame0000028.jpg: ignoring corrupt image/label: non-normalized or out of bounds coordinates [     1.0021]\n",
            "\u001b[34m\u001b[1mtrain: \u001b[0mWARNING ⚠️ /content/trash_inst_material/train/images/vid_000157_frame0000029.jpg: ignoring corrupt image/label: non-normalized or out of bounds coordinates [     1.0021]\n",
            "\u001b[34m\u001b[1mtrain: \u001b[0mWARNING ⚠️ /content/trash_inst_material/train/images/vid_000157_frame0000030.jpg: ignoring corrupt image/label: non-normalized or out of bounds coordinates [     1.0021]\n",
            "\u001b[34m\u001b[1mtrain: \u001b[0mWARNING ⚠️ /content/trash_inst_material/train/images/vid_000157_frame0000031.jpg: ignoring corrupt image/label: non-normalized or out of bounds coordinates [     1.0021]\n",
            "\u001b[34m\u001b[1mtrain: \u001b[0mWARNING ⚠️ /content/trash_inst_material/train/images/vid_000157_frame0000032.jpg: ignoring corrupt image/label: non-normalized or out of bounds coordinates [      1.002]\n",
            "\u001b[34m\u001b[1mtrain: \u001b[0mWARNING ⚠️ /content/trash_inst_material/train/images/vid_000158_frame0000012.jpg: ignoring corrupt image/label: non-normalized or out of bounds coordinates [     1.0021]\n",
            "\u001b[34m\u001b[1mtrain: \u001b[0mWARNING ⚠️ /content/trash_inst_material/train/images/vid_000158_frame0000025.jpg: ignoring corrupt image/label: non-normalized or out of bounds coordinates [     1.0021]\n",
            "\u001b[34m\u001b[1mtrain: \u001b[0mWARNING ⚠️ /content/trash_inst_material/train/images/vid_000158_frame0000026.jpg: ignoring corrupt image/label: non-normalized or out of bounds coordinates [     1.0021]\n",
            "\u001b[34m\u001b[1mtrain: \u001b[0mWARNING ⚠️ /content/trash_inst_material/train/images/vid_000158_frame0000027.jpg: ignoring corrupt image/label: non-normalized or out of bounds coordinates [     1.0021]\n",
            "\u001b[34m\u001b[1mtrain: \u001b[0mWARNING ⚠️ /content/trash_inst_material/train/images/vid_000158_frame0000028.jpg: ignoring corrupt image/label: non-normalized or out of bounds coordinates [      1.002]\n",
            "\u001b[34m\u001b[1mtrain: \u001b[0mWARNING ⚠️ /content/trash_inst_material/train/images/vid_000158_frame0000030.jpg: ignoring corrupt image/label: non-normalized or out of bounds coordinates [      1.002]\n",
            "\u001b[34m\u001b[1mtrain: \u001b[0mWARNING ⚠️ /content/trash_inst_material/train/images/vid_000158_frame0000037.jpg: ignoring corrupt image/label: non-normalized or out of bounds coordinates [     1.0021]\n",
            "\u001b[34m\u001b[1mtrain: \u001b[0mWARNING ⚠️ /content/trash_inst_material/train/images/vid_000158_frame0000039.jpg: ignoring corrupt image/label: non-normalized or out of bounds coordinates [     1.0021]\n",
            "\u001b[34m\u001b[1mtrain: \u001b[0mWARNING ⚠️ /content/trash_inst_material/train/images/vid_000158_frame0000041.jpg: ignoring corrupt image/label: non-normalized or out of bounds coordinates [     1.0021]\n",
            "\u001b[34m\u001b[1mtrain: \u001b[0mWARNING ⚠️ /content/trash_inst_material/train/images/vid_000158_frame0000043.jpg: ignoring corrupt image/label: non-normalized or out of bounds coordinates [     1.0021]\n",
            "\u001b[34m\u001b[1mtrain: \u001b[0mWARNING ⚠️ /content/trash_inst_material/train/images/vid_000158_frame0000045.jpg: ignoring corrupt image/label: non-normalized or out of bounds coordinates [     1.0021]\n",
            "\u001b[34m\u001b[1mtrain: \u001b[0mWARNING ⚠️ /content/trash_inst_material/train/images/vid_000158_frame0000062.jpg: ignoring corrupt image/label: non-normalized or out of bounds coordinates [      1.002]\n",
            "\u001b[34m\u001b[1mtrain: \u001b[0mWARNING ⚠️ /content/trash_inst_material/train/images/vid_000158_frame0000077.jpg: ignoring corrupt image/label: non-normalized or out of bounds coordinates [     1.0021]\n",
            "\u001b[34m\u001b[1mtrain: \u001b[0mWARNING ⚠️ /content/trash_inst_material/train/images/vid_000158_frame0000078.jpg: ignoring corrupt image/label: non-normalized or out of bounds coordinates [     1.0021]\n",
            "\u001b[34m\u001b[1mtrain: \u001b[0mWARNING ⚠️ /content/trash_inst_material/train/images/vid_000158_frame0000082.jpg: ignoring corrupt image/label: non-normalized or out of bounds coordinates [     1.0021]\n",
            "\u001b[34m\u001b[1mtrain: \u001b[0mWARNING ⚠️ /content/trash_inst_material/train/images/vid_000158_frame0000083.jpg: ignoring corrupt image/label: non-normalized or out of bounds coordinates [     1.0021]\n",
            "\u001b[34m\u001b[1mtrain: \u001b[0mWARNING ⚠️ /content/trash_inst_material/train/images/vid_000158_frame0000084.jpg: ignoring corrupt image/label: non-normalized or out of bounds coordinates [     1.0021]\n",
            "\u001b[34m\u001b[1mtrain: \u001b[0mWARNING ⚠️ /content/trash_inst_material/train/images/vid_000158_frame0000085.jpg: ignoring corrupt image/label: non-normalized or out of bounds coordinates [     1.0021]\n",
            "\u001b[34m\u001b[1mtrain: \u001b[0mWARNING ⚠️ /content/trash_inst_material/train/images/vid_000158_frame0000094.jpg: ignoring corrupt image/label: non-normalized or out of bounds coordinates [     1.0021]\n",
            "\u001b[34m\u001b[1mtrain: \u001b[0mWARNING ⚠️ /content/trash_inst_material/train/images/vid_000158_frame0000095.jpg: ignoring corrupt image/label: non-normalized or out of bounds coordinates [     1.0021]\n",
            "\u001b[34m\u001b[1mtrain: \u001b[0mWARNING ⚠️ /content/trash_inst_material/train/images/vid_000158_frame0000096.jpg: ignoring corrupt image/label: non-normalized or out of bounds coordinates [     1.0021]\n",
            "\u001b[34m\u001b[1mtrain: \u001b[0mWARNING ⚠️ /content/trash_inst_material/train/images/vid_000158_frame0000097.jpg: ignoring corrupt image/label: non-normalized or out of bounds coordinates [     1.0021]\n",
            "\u001b[34m\u001b[1mtrain: \u001b[0mWARNING ⚠️ /content/trash_inst_material/train/images/vid_000158_frame0000098.jpg: ignoring corrupt image/label: non-normalized or out of bounds coordinates [     1.0021]\n",
            "\u001b[34m\u001b[1mtrain: \u001b[0mWARNING ⚠️ /content/trash_inst_material/train/images/vid_000158_frame0000100.jpg: ignoring corrupt image/label: non-normalized or out of bounds coordinates [     1.0021]\n",
            "\u001b[34m\u001b[1mtrain: \u001b[0mWARNING ⚠️ /content/trash_inst_material/train/images/vid_000158_frame0000103.jpg: ignoring corrupt image/label: non-normalized or out of bounds coordinates [     1.0021]\n",
            "\u001b[34m\u001b[1mtrain: \u001b[0mWARNING ⚠️ /content/trash_inst_material/train/images/vid_000158_frame0000105.jpg: ignoring corrupt image/label: non-normalized or out of bounds coordinates [     1.0021]\n",
            "\u001b[34m\u001b[1mtrain: \u001b[0mWARNING ⚠️ /content/trash_inst_material/train/images/vid_000158_frame0000107.jpg: ignoring corrupt image/label: non-normalized or out of bounds coordinates [     1.0021]\n",
            "\u001b[34m\u001b[1mtrain: \u001b[0mWARNING ⚠️ /content/trash_inst_material/train/images/vid_000158_frame0000108.jpg: ignoring corrupt image/label: non-normalized or out of bounds coordinates [     1.0021]\n",
            "\u001b[34m\u001b[1mtrain: \u001b[0mWARNING ⚠️ /content/trash_inst_material/train/images/vid_000158_frame0000109.jpg: ignoring corrupt image/label: non-normalized or out of bounds coordinates [     1.0021]\n",
            "\u001b[34m\u001b[1mtrain: \u001b[0mWARNING ⚠️ /content/trash_inst_material/train/images/vid_000158_frame0000110.jpg: ignoring corrupt image/label: non-normalized or out of bounds coordinates [     1.0021]\n",
            "\u001b[34m\u001b[1mtrain: \u001b[0mWARNING ⚠️ /content/trash_inst_material/train/images/vid_000158_frame0000111.jpg: ignoring corrupt image/label: non-normalized or out of bounds coordinates [      1.002]\n",
            "\u001b[34m\u001b[1mtrain: \u001b[0mWARNING ⚠️ /content/trash_inst_material/train/images/vid_000158_frame0000112.jpg: ignoring corrupt image/label: non-normalized or out of bounds coordinates [     1.0021]\n",
            "\u001b[34m\u001b[1mtrain: \u001b[0mWARNING ⚠️ /content/trash_inst_material/train/images/vid_000158_frame0000113.jpg: ignoring corrupt image/label: non-normalized or out of bounds coordinates [     1.0021]\n",
            "\u001b[34m\u001b[1mtrain: \u001b[0mWARNING ⚠️ /content/trash_inst_material/train/images/vid_000158_frame0000117.jpg: ignoring corrupt image/label: non-normalized or out of bounds coordinates [     1.0021]\n",
            "\u001b[34m\u001b[1mtrain: \u001b[0mWARNING ⚠️ /content/trash_inst_material/train/images/vid_000158_frame0000119.jpg: ignoring corrupt image/label: non-normalized or out of bounds coordinates [     1.0021]\n",
            "\u001b[34m\u001b[1mtrain: \u001b[0mWARNING ⚠️ /content/trash_inst_material/train/images/vid_000158_frame0000120.jpg: ignoring corrupt image/label: non-normalized or out of bounds coordinates [     1.0021]\n",
            "\u001b[34m\u001b[1mtrain: \u001b[0mWARNING ⚠️ /content/trash_inst_material/train/images/vid_000158_frame0000121.jpg: ignoring corrupt image/label: non-normalized or out of bounds coordinates [     1.0018]\n",
            "\u001b[34m\u001b[1mtrain: \u001b[0mWARNING ⚠️ /content/trash_inst_material/train/images/vid_000158_frame0000122.jpg: ignoring corrupt image/label: non-normalized or out of bounds coordinates [      1.002]\n",
            "\u001b[34m\u001b[1mtrain: \u001b[0mWARNING ⚠️ /content/trash_inst_material/train/images/vid_000158_frame0000123.jpg: ignoring corrupt image/label: non-normalized or out of bounds coordinates [     1.0021]\n",
            "\u001b[34m\u001b[1mtrain: \u001b[0mWARNING ⚠️ /content/trash_inst_material/train/images/vid_000162_frame0000009.jpg: ignoring corrupt image/label: non-normalized or out of bounds coordinates [     1.0037]\n",
            "\u001b[34m\u001b[1mtrain: \u001b[0mWARNING ⚠️ /content/trash_inst_material/train/images/vid_000162_frame0000014.jpg: ignoring corrupt image/label: non-normalized or out of bounds coordinates [     1.0037]\n",
            "\u001b[34m\u001b[1mtrain: \u001b[0mWARNING ⚠️ /content/trash_inst_material/train/images/vid_000201_frame0000010.jpg: ignoring corrupt image/label: non-normalized or out of bounds coordinates [     1.0021]\n",
            "\u001b[34m\u001b[1mtrain: \u001b[0mWARNING ⚠️ /content/trash_inst_material/train/images/vid_000201_frame0000011.jpg: ignoring corrupt image/label: non-normalized or out of bounds coordinates [     1.0021]\n",
            "\u001b[34m\u001b[1mtrain: \u001b[0mWARNING ⚠️ /content/trash_inst_material/train/images/vid_000204_frame0000004.jpg: ignoring corrupt image/label: non-normalized or out of bounds coordinates [     1.0021]\n",
            "\u001b[34m\u001b[1mtrain: \u001b[0mWARNING ⚠️ /content/trash_inst_material/train/images/vid_000204_frame0000008.jpg: ignoring corrupt image/label: non-normalized or out of bounds coordinates [     1.0021]\n",
            "\u001b[34m\u001b[1mtrain: \u001b[0mWARNING ⚠️ /content/trash_inst_material/train/images/vid_000204_frame0000010.jpg: ignoring corrupt image/label: non-normalized or out of bounds coordinates [     1.0021]\n",
            "\u001b[34m\u001b[1mtrain: \u001b[0mWARNING ⚠️ /content/trash_inst_material/train/images/vid_000204_frame0000012.jpg: ignoring corrupt image/label: non-normalized or out of bounds coordinates [     1.0021]\n",
            "\u001b[34m\u001b[1mtrain: \u001b[0mWARNING ⚠️ /content/trash_inst_material/train/images/vid_000204_frame0000016.jpg: ignoring corrupt image/label: non-normalized or out of bounds coordinates [     1.0021]\n",
            "\u001b[34m\u001b[1mtrain: \u001b[0mWARNING ⚠️ /content/trash_inst_material/train/images/vid_000204_frame0000020.jpg: ignoring corrupt image/label: non-normalized or out of bounds coordinates [     1.0021]\n",
            "\u001b[34m\u001b[1mtrain: \u001b[0mWARNING ⚠️ /content/trash_inst_material/train/images/vid_000204_frame0000024.jpg: ignoring corrupt image/label: non-normalized or out of bounds coordinates [     1.0021]\n",
            "\u001b[34m\u001b[1mtrain: \u001b[0mWARNING ⚠️ /content/trash_inst_material/train/images/vid_000214_frame0000001.jpg: ignoring corrupt image/label: non-normalized or out of bounds coordinates [     1.0021]\n",
            "\u001b[34m\u001b[1mtrain: \u001b[0mWARNING ⚠️ /content/trash_inst_material/train/images/vid_000214_frame0000002.jpg: ignoring corrupt image/label: non-normalized or out of bounds coordinates [     1.0021]\n",
            "\u001b[34m\u001b[1mtrain: \u001b[0mWARNING ⚠️ /content/trash_inst_material/train/images/vid_000214_frame0000003.jpg: ignoring corrupt image/label: non-normalized or out of bounds coordinates [     1.0021]\n",
            "\u001b[34m\u001b[1mtrain: \u001b[0mWARNING ⚠️ /content/trash_inst_material/train/images/vid_000214_frame0000004.jpg: ignoring corrupt image/label: non-normalized or out of bounds coordinates [     1.0021]\n",
            "\u001b[34m\u001b[1mtrain: \u001b[0mWARNING ⚠️ /content/trash_inst_material/train/images/vid_000214_frame0000005.jpg: ignoring corrupt image/label: non-normalized or out of bounds coordinates [     1.0021]\n",
            "\u001b[34m\u001b[1mtrain: \u001b[0mWARNING ⚠️ /content/trash_inst_material/train/images/vid_000214_frame0000011.jpg: ignoring corrupt image/label: non-normalized or out of bounds coordinates [     1.0021]\n",
            "\u001b[34m\u001b[1mtrain: \u001b[0mWARNING ⚠️ /content/trash_inst_material/train/images/vid_000214_frame0000014.jpg: ignoring corrupt image/label: non-normalized or out of bounds coordinates [     1.0021]\n",
            "\u001b[34m\u001b[1mtrain: \u001b[0mWARNING ⚠️ /content/trash_inst_material/train/images/vid_000214_frame0000015.jpg: ignoring corrupt image/label: non-normalized or out of bounds coordinates [     1.0021]\n",
            "\u001b[34m\u001b[1mtrain: \u001b[0mWARNING ⚠️ /content/trash_inst_material/train/images/vid_000214_frame0000016.jpg: ignoring corrupt image/label: non-normalized or out of bounds coordinates [     1.0021]\n",
            "\u001b[34m\u001b[1mtrain: \u001b[0mWARNING ⚠️ /content/trash_inst_material/train/images/vid_000214_frame0000017.jpg: ignoring corrupt image/label: non-normalized or out of bounds coordinates [     1.0021]\n",
            "\u001b[34m\u001b[1mtrain: \u001b[0mWARNING ⚠️ /content/trash_inst_material/train/images/vid_000214_frame0000018.jpg: ignoring corrupt image/label: non-normalized or out of bounds coordinates [     1.0021]\n",
            "\u001b[34m\u001b[1mtrain: \u001b[0mWARNING ⚠️ /content/trash_inst_material/train/images/vid_000214_frame0000019.jpg: ignoring corrupt image/label: non-normalized or out of bounds coordinates [     1.0021]\n",
            "\u001b[34m\u001b[1mtrain: \u001b[0mWARNING ⚠️ /content/trash_inst_material/train/images/vid_000235_frame0000116.jpg: ignoring corrupt image/label: non-normalized or out of bounds coordinates [     1.0021]\n",
            "\u001b[34m\u001b[1mtrain: \u001b[0mWARNING ⚠️ /content/trash_inst_material/train/images/vid_000236_frame0000030.jpg: ignoring corrupt image/label: non-normalized or out of bounds coordinates [     1.0021]\n",
            "\u001b[34m\u001b[1mtrain: \u001b[0mWARNING ⚠️ /content/trash_inst_material/train/images/vid_000236_frame0000037.jpg: ignoring corrupt image/label: non-normalized or out of bounds coordinates [     1.0021]\n",
            "\u001b[34m\u001b[1mtrain: \u001b[0mWARNING ⚠️ /content/trash_inst_material/train/images/vid_000236_frame0000044.jpg: ignoring corrupt image/label: non-normalized or out of bounds coordinates [     1.0021]\n",
            "\u001b[34m\u001b[1mtrain: \u001b[0mWARNING ⚠️ /content/trash_inst_material/train/images/vid_000236_frame0000053.jpg: ignoring corrupt image/label: non-normalized or out of bounds coordinates [     1.0021]\n",
            "\u001b[34m\u001b[1mtrain: \u001b[0mWARNING ⚠️ /content/trash_inst_material/train/images/vid_000242_frame0000055.jpg: ignoring corrupt image/label: non-normalized or out of bounds coordinates [     1.0021]\n",
            "\u001b[34m\u001b[1mtrain: \u001b[0mWARNING ⚠️ /content/trash_inst_material/train/images/vid_000242_frame0000057.jpg: ignoring corrupt image/label: non-normalized or out of bounds coordinates [     1.0021]\n",
            "\u001b[34m\u001b[1mtrain: \u001b[0mWARNING ⚠️ /content/trash_inst_material/train/images/vid_000249_frame0000005.jpg: ignoring corrupt image/label: non-normalized or out of bounds coordinates [     1.0021]\n",
            "\u001b[34m\u001b[1mtrain: \u001b[0mWARNING ⚠️ /content/trash_inst_material/train/images/vid_000249_frame0000006.jpg: ignoring corrupt image/label: non-normalized or out of bounds coordinates [     1.0021]\n",
            "\u001b[34m\u001b[1mtrain: \u001b[0mWARNING ⚠️ /content/trash_inst_material/train/images/vid_000249_frame0000008.jpg: ignoring corrupt image/label: non-normalized or out of bounds coordinates [     1.0021]\n",
            "\u001b[34m\u001b[1mtrain: \u001b[0mWARNING ⚠️ /content/trash_inst_material/train/images/vid_000249_frame0000009.jpg: ignoring corrupt image/label: non-normalized or out of bounds coordinates [     1.0021]\n",
            "\u001b[34m\u001b[1mtrain: \u001b[0mWARNING ⚠️ /content/trash_inst_material/train/images/vid_000249_frame0000012.jpg: ignoring corrupt image/label: non-normalized or out of bounds coordinates [     1.0021]\n",
            "\u001b[34m\u001b[1mtrain: \u001b[0mWARNING ⚠️ /content/trash_inst_material/train/images/vid_000250_frame0000008.jpg: ignoring corrupt image/label: non-normalized or out of bounds coordinates [     1.0021]\n",
            "\u001b[34m\u001b[1mtrain: \u001b[0mWARNING ⚠️ /content/trash_inst_material/train/images/vid_000250_frame0000015.jpg: ignoring corrupt image/label: non-normalized or out of bounds coordinates [     1.0021]\n",
            "\u001b[34m\u001b[1mtrain: \u001b[0mWARNING ⚠️ /content/trash_inst_material/train/images/vid_000250_frame0000055.jpg: ignoring corrupt image/label: non-normalized or out of bounds coordinates [     1.0021]\n",
            "\u001b[34m\u001b[1mtrain: \u001b[0mWARNING ⚠️ /content/trash_inst_material/train/images/vid_000250_frame0000076.jpg: ignoring corrupt image/label: non-normalized or out of bounds coordinates [     1.0021]\n",
            "\u001b[34m\u001b[1mtrain: \u001b[0mWARNING ⚠️ /content/trash_inst_material/train/images/vid_000251_frame0000011.jpg: ignoring corrupt image/label: non-normalized or out of bounds coordinates [     1.0021]\n",
            "\u001b[34m\u001b[1mtrain: \u001b[0mWARNING ⚠️ /content/trash_inst_material/train/images/vid_000251_frame0000012.jpg: ignoring corrupt image/label: non-normalized or out of bounds coordinates [     1.0021]\n",
            "\u001b[34m\u001b[1mtrain: \u001b[0mWARNING ⚠️ /content/trash_inst_material/train/images/vid_000251_frame0000013.jpg: ignoring corrupt image/label: non-normalized or out of bounds coordinates [     1.0021]\n",
            "\u001b[34m\u001b[1mtrain: \u001b[0mWARNING ⚠️ /content/trash_inst_material/train/images/vid_000251_frame0000021.jpg: ignoring corrupt image/label: non-normalized or out of bounds coordinates [     1.0021]\n",
            "\u001b[34m\u001b[1mtrain: \u001b[0mWARNING ⚠️ /content/trash_inst_material/train/images/vid_000251_frame0000023.jpg: ignoring corrupt image/label: non-normalized or out of bounds coordinates [     1.0021]\n",
            "\u001b[34m\u001b[1mtrain: \u001b[0mWARNING ⚠️ /content/trash_inst_material/train/images/vid_000251_frame0000030.jpg: ignoring corrupt image/label: non-normalized or out of bounds coordinates [     1.0021]\n",
            "\u001b[34m\u001b[1mtrain: \u001b[0mWARNING ⚠️ /content/trash_inst_material/train/images/vid_000251_frame0000031.jpg: ignoring corrupt image/label: non-normalized or out of bounds coordinates [     1.0021]\n",
            "\u001b[34m\u001b[1mtrain: \u001b[0mWARNING ⚠️ /content/trash_inst_material/train/images/vid_000251_frame0000032.jpg: ignoring corrupt image/label: non-normalized or out of bounds coordinates [     1.0021]\n",
            "\u001b[34m\u001b[1mtrain: \u001b[0mWARNING ⚠️ /content/trash_inst_material/train/images/vid_000251_frame0000035.jpg: ignoring corrupt image/label: non-normalized or out of bounds coordinates [     1.0021]\n",
            "\u001b[34m\u001b[1mtrain: \u001b[0mWARNING ⚠️ /content/trash_inst_material/train/images/vid_000251_frame0000036.jpg: ignoring corrupt image/label: non-normalized or out of bounds coordinates [     1.0021]\n",
            "\u001b[34m\u001b[1mtrain: \u001b[0mWARNING ⚠️ /content/trash_inst_material/train/images/vid_000251_frame0000038.jpg: ignoring corrupt image/label: non-normalized or out of bounds coordinates [     1.0021]\n",
            "\u001b[34m\u001b[1mtrain: \u001b[0mWARNING ⚠️ /content/trash_inst_material/train/images/vid_000251_frame0000039.jpg: ignoring corrupt image/label: non-normalized or out of bounds coordinates [     1.0021]\n",
            "\u001b[34m\u001b[1mtrain: \u001b[0mWARNING ⚠️ /content/trash_inst_material/train/images/vid_000251_frame0000040.jpg: ignoring corrupt image/label: non-normalized or out of bounds coordinates [     1.0021]\n",
            "\u001b[34m\u001b[1mtrain: \u001b[0mWARNING ⚠️ /content/trash_inst_material/train/images/vid_000251_frame0000041.jpg: ignoring corrupt image/label: non-normalized or out of bounds coordinates [     1.0021]\n",
            "\u001b[34m\u001b[1mtrain: \u001b[0mWARNING ⚠️ /content/trash_inst_material/train/images/vid_000273_frame0000003.jpg: ignoring corrupt image/label: non-normalized or out of bounds coordinates [     1.0021]\n",
            "\u001b[34m\u001b[1mtrain: \u001b[0mWARNING ⚠️ /content/trash_inst_material/train/images/vid_000280_frame0000001.jpg: ignoring corrupt image/label: non-normalized or out of bounds coordinates [     1.0021]\n",
            "\u001b[34m\u001b[1mtrain: \u001b[0mWARNING ⚠️ /content/trash_inst_material/train/images/vid_000285_frame0000022.jpg: ignoring corrupt image/label: non-normalized or out of bounds coordinates [     1.0028]\n",
            "\u001b[34m\u001b[1mtrain: \u001b[0mWARNING ⚠️ /content/trash_inst_material/train/images/vid_000285_frame0000148.jpg: ignoring corrupt image/label: non-normalized or out of bounds coordinates [     1.0028]\n",
            "\u001b[34m\u001b[1mtrain: \u001b[0mWARNING ⚠️ /content/trash_inst_material/train/images/vid_000285_frame0000149.jpg: ignoring corrupt image/label: non-normalized or out of bounds coordinates [     1.0028]\n",
            "\u001b[34m\u001b[1mtrain: \u001b[0mWARNING ⚠️ /content/trash_inst_material/train/images/vid_000285_frame0000151.jpg: ignoring corrupt image/label: non-normalized or out of bounds coordinates [     1.0028]\n",
            "\u001b[34m\u001b[1mtrain: \u001b[0mWARNING ⚠️ /content/trash_inst_material/train/images/vid_000285_frame0000154.jpg: ignoring corrupt image/label: non-normalized or out of bounds coordinates [     1.0028]\n",
            "\u001b[34m\u001b[1mtrain: \u001b[0mWARNING ⚠️ /content/trash_inst_material/train/images/vid_000285_frame0000174.jpg: ignoring corrupt image/label: non-normalized or out of bounds coordinates [     1.0028]\n",
            "\u001b[34m\u001b[1mtrain: \u001b[0mWARNING ⚠️ /content/trash_inst_material/train/images/vid_000285_frame0000176.jpg: ignoring corrupt image/label: non-normalized or out of bounds coordinates [     1.0028]\n",
            "\u001b[34m\u001b[1mtrain: \u001b[0mWARNING ⚠️ /content/trash_inst_material/train/images/vid_000292_frame0000011.jpg: ignoring corrupt image/label: non-normalized or out of bounds coordinates [     1.0021]\n",
            "\u001b[34m\u001b[1mtrain: \u001b[0mWARNING ⚠️ /content/trash_inst_material/train/images/vid_000292_frame0000012.jpg: ignoring corrupt image/label: non-normalized or out of bounds coordinates [     1.0021]\n",
            "\u001b[34m\u001b[1mtrain: \u001b[0mWARNING ⚠️ /content/trash_inst_material/train/images/vid_000292_frame0000013.jpg: ignoring corrupt image/label: non-normalized or out of bounds coordinates [     1.0021]\n",
            "\u001b[34m\u001b[1mtrain: \u001b[0mWARNING ⚠️ /content/trash_inst_material/train/images/vid_000293_frame0000006.jpg: ignoring corrupt image/label: non-normalized or out of bounds coordinates [      1.002]\n",
            "\u001b[34m\u001b[1mtrain: \u001b[0mWARNING ⚠️ /content/trash_inst_material/train/images/vid_000293_frame0000007.jpg: ignoring corrupt image/label: non-normalized or out of bounds coordinates [     1.0021]\n",
            "\u001b[34m\u001b[1mtrain: \u001b[0mWARNING ⚠️ /content/trash_inst_material/train/images/vid_000293_frame0000008.jpg: ignoring corrupt image/label: non-normalized or out of bounds coordinates [     1.0018]\n",
            "\u001b[34m\u001b[1mtrain: \u001b[0mWARNING ⚠️ /content/trash_inst_material/train/images/vid_000293_frame0000009.jpg: ignoring corrupt image/label: non-normalized or out of bounds coordinates [     1.0021]\n",
            "\u001b[34m\u001b[1mtrain: \u001b[0mWARNING ⚠️ /content/trash_inst_material/train/images/vid_000293_frame0000010.jpg: ignoring corrupt image/label: non-normalized or out of bounds coordinates [     1.0021]\n",
            "\u001b[34m\u001b[1mtrain: \u001b[0mWARNING ⚠️ /content/trash_inst_material/train/images/vid_000294_frame0000016.jpg: ignoring corrupt image/label: non-normalized or out of bounds coordinates [     1.0019]\n",
            "\u001b[34m\u001b[1mtrain: \u001b[0mWARNING ⚠️ /content/trash_inst_material/train/images/vid_000294_frame0000017.jpg: ignoring corrupt image/label: non-normalized or out of bounds coordinates [     1.0021]\n",
            "\u001b[34m\u001b[1mtrain: \u001b[0mWARNING ⚠️ /content/trash_inst_material/train/images/vid_000297_frame0000020.jpg: ignoring corrupt image/label: non-normalized or out of bounds coordinates [     1.0021]\n",
            "\u001b[34m\u001b[1mtrain: \u001b[0mWARNING ⚠️ /content/trash_inst_material/train/images/vid_000299_frame0000009.jpg: ignoring corrupt image/label: non-normalized or out of bounds coordinates [     1.0021]\n",
            "\u001b[34m\u001b[1mtrain: \u001b[0mWARNING ⚠️ /content/trash_inst_material/train/images/vid_000299_frame0000010.jpg: ignoring corrupt image/label: non-normalized or out of bounds coordinates [     1.0021]\n",
            "\u001b[34m\u001b[1mtrain: \u001b[0mWARNING ⚠️ /content/trash_inst_material/train/images/vid_000299_frame0000011.jpg: ignoring corrupt image/label: non-normalized or out of bounds coordinates [     1.0021]\n",
            "\u001b[34m\u001b[1mtrain: \u001b[0mWARNING ⚠️ /content/trash_inst_material/train/images/vid_000299_frame0000012.jpg: ignoring corrupt image/label: non-normalized or out of bounds coordinates [     1.0021]\n",
            "\u001b[34m\u001b[1mtrain: \u001b[0mWARNING ⚠️ /content/trash_inst_material/train/images/vid_000299_frame0000013.jpg: ignoring corrupt image/label: non-normalized or out of bounds coordinates [     1.0021]\n",
            "\u001b[34m\u001b[1mtrain: \u001b[0mWARNING ⚠️ /content/trash_inst_material/train/images/vid_000307_frame0000001.jpg: ignoring corrupt image/label: non-normalized or out of bounds coordinates [     1.0028]\n",
            "\u001b[34m\u001b[1mtrain: \u001b[0mWARNING ⚠️ /content/trash_inst_material/train/images/vid_000307_frame0000020.jpg: ignoring corrupt image/label: non-normalized or out of bounds coordinates [     1.0027]\n",
            "\u001b[34m\u001b[1mtrain: \u001b[0mWARNING ⚠️ /content/trash_inst_material/train/images/vid_000309_frame0000021.jpg: ignoring corrupt image/label: non-normalized or out of bounds coordinates [     1.0021]\n",
            "\u001b[34m\u001b[1mtrain: \u001b[0mWARNING ⚠️ /content/trash_inst_material/train/images/vid_000309_frame0000045.jpg: ignoring corrupt image/label: non-normalized or out of bounds coordinates [     1.0021]\n",
            "\u001b[34m\u001b[1mtrain: \u001b[0mWARNING ⚠️ /content/trash_inst_material/train/images/vid_000309_frame0000049.jpg: ignoring corrupt image/label: non-normalized or out of bounds coordinates [     1.0021]\n",
            "\u001b[34m\u001b[1mtrain: \u001b[0mWARNING ⚠️ /content/trash_inst_material/train/images/vid_000309_frame0000050.jpg: ignoring corrupt image/label: non-normalized or out of bounds coordinates [     1.0021]\n",
            "\u001b[34m\u001b[1mtrain: \u001b[0mWARNING ⚠️ /content/trash_inst_material/train/images/vid_000309_frame0000061.jpg: ignoring corrupt image/label: non-normalized or out of bounds coordinates [     1.0021]\n",
            "\u001b[34m\u001b[1mtrain: \u001b[0mWARNING ⚠️ /content/trash_inst_material/train/images/vid_000309_frame0000062.jpg: ignoring corrupt image/label: non-normalized or out of bounds coordinates [     1.0021]\n",
            "\u001b[34m\u001b[1mtrain: \u001b[0mWARNING ⚠️ /content/trash_inst_material/train/images/vid_000315_frame0000024.jpg: ignoring corrupt image/label: non-normalized or out of bounds coordinates [     1.0021]\n",
            "\u001b[34m\u001b[1mtrain: \u001b[0mWARNING ⚠️ /content/trash_inst_material/train/images/vid_000315_frame0000025.jpg: ignoring corrupt image/label: non-normalized or out of bounds coordinates [     1.0016]\n",
            "\u001b[34m\u001b[1mtrain: \u001b[0mWARNING ⚠️ /content/trash_inst_material/train/images/vid_000315_frame0000026.jpg: ignoring corrupt image/label: non-normalized or out of bounds coordinates [     1.0021]\n",
            "\u001b[34m\u001b[1mtrain: \u001b[0mWARNING ⚠️ /content/trash_inst_material/train/images/vid_000319_frame0000011.jpg: ignoring corrupt image/label: non-normalized or out of bounds coordinates [     1.0037]\n",
            "\u001b[34m\u001b[1mtrain: \u001b[0mWARNING ⚠️ /content/trash_inst_material/train/images/vid_000319_frame0000012.jpg: ignoring corrupt image/label: non-normalized or out of bounds coordinates [     1.0037]\n",
            "\u001b[34m\u001b[1mtrain: \u001b[0mWARNING ⚠️ /content/trash_inst_material/train/images/vid_000319_frame0000013.jpg: ignoring corrupt image/label: non-normalized or out of bounds coordinates [     1.0037]\n",
            "\u001b[34m\u001b[1mtrain: \u001b[0mWARNING ⚠️ /content/trash_inst_material/train/images/vid_000319_frame0000016.jpg: ignoring corrupt image/label: non-normalized or out of bounds coordinates [     1.0037]\n",
            "\u001b[34m\u001b[1mtrain: \u001b[0mWARNING ⚠️ /content/trash_inst_material/train/images/vid_000319_frame0000017.jpg: ignoring corrupt image/label: non-normalized or out of bounds coordinates [     1.0037]\n",
            "\u001b[34m\u001b[1mtrain: \u001b[0mWARNING ⚠️ /content/trash_inst_material/train/images/vid_000320_frame0000051.jpg: ignoring corrupt image/label: non-normalized or out of bounds coordinates [     1.0036]\n",
            "\u001b[34m\u001b[1mtrain: \u001b[0mWARNING ⚠️ /content/trash_inst_material/train/images/vid_000320_frame0000053.jpg: ignoring corrupt image/label: non-normalized or out of bounds coordinates [     1.0021]\n",
            "\u001b[34m\u001b[1mtrain: \u001b[0mWARNING ⚠️ /content/trash_inst_material/train/images/vid_000320_frame0000054.jpg: ignoring corrupt image/label: non-normalized or out of bounds coordinates [     1.0036]\n",
            "\u001b[34m\u001b[1mtrain: \u001b[0mWARNING ⚠️ /content/trash_inst_material/train/images/vid_000320_frame0000055.jpg: ignoring corrupt image/label: non-normalized or out of bounds coordinates [     1.0037]\n",
            "\u001b[34m\u001b[1mtrain: \u001b[0mWARNING ⚠️ /content/trash_inst_material/train/images/vid_000320_frame0000056.jpg: ignoring corrupt image/label: non-normalized or out of bounds coordinates [     1.0036]\n",
            "\u001b[34m\u001b[1mtrain: \u001b[0mWARNING ⚠️ /content/trash_inst_material/train/images/vid_000332_frame0000030.jpg: ignoring corrupt image/label: non-normalized or out of bounds coordinates [     1.0037]\n",
            "\u001b[34m\u001b[1mtrain: \u001b[0mWARNING ⚠️ /content/trash_inst_material/train/images/vid_000332_frame0000031.jpg: ignoring corrupt image/label: non-normalized or out of bounds coordinates [     1.0037]\n",
            "\u001b[34m\u001b[1mtrain: \u001b[0mWARNING ⚠️ /content/trash_inst_material/train/images/vid_000333_frame0000012.jpg: ignoring corrupt image/label: non-normalized or out of bounds coordinates [     1.0021      1.0037]\n",
            "\u001b[34m\u001b[1mtrain: \u001b[0mWARNING ⚠️ /content/trash_inst_material/train/images/vid_000333_frame0000013.jpg: ignoring corrupt image/label: non-normalized or out of bounds coordinates [     1.0037]\n",
            "\u001b[34m\u001b[1mtrain: \u001b[0mWARNING ⚠️ /content/trash_inst_material/train/images/vid_000333_frame0000014.jpg: ignoring corrupt image/label: non-normalized or out of bounds coordinates [     1.0037]\n",
            "\u001b[34m\u001b[1mtrain: \u001b[0mWARNING ⚠️ /content/trash_inst_material/train/images/vid_000333_frame0000015.jpg: ignoring corrupt image/label: non-normalized or out of bounds coordinates [     1.0037]\n",
            "\u001b[34m\u001b[1mtrain: \u001b[0mWARNING ⚠️ /content/trash_inst_material/train/images/vid_000333_frame0000016.jpg: ignoring corrupt image/label: non-normalized or out of bounds coordinates [     1.0037]\n",
            "\u001b[34m\u001b[1mtrain: \u001b[0mWARNING ⚠️ /content/trash_inst_material/train/images/vid_000333_frame0000017.jpg: ignoring corrupt image/label: non-normalized or out of bounds coordinates [     1.0037]\n",
            "\u001b[34m\u001b[1mtrain: \u001b[0mWARNING ⚠️ /content/trash_inst_material/train/images/vid_000333_frame0000018.jpg: ignoring corrupt image/label: non-normalized or out of bounds coordinates [     1.0021      1.0037]\n",
            "\u001b[34m\u001b[1mtrain: \u001b[0mWARNING ⚠️ /content/trash_inst_material/train/images/vid_000333_frame0000019.jpg: ignoring corrupt image/label: non-normalized or out of bounds coordinates [     1.0021      1.0037]\n",
            "\u001b[34m\u001b[1mtrain: \u001b[0mWARNING ⚠️ /content/trash_inst_material/train/images/vid_000333_frame0000020.jpg: ignoring corrupt image/label: non-normalized or out of bounds coordinates [     1.0037]\n",
            "\u001b[34m\u001b[1mtrain: \u001b[0mWARNING ⚠️ /content/trash_inst_material/train/images/vid_000333_frame0000021.jpg: ignoring corrupt image/label: non-normalized or out of bounds coordinates [     1.0037]\n",
            "\u001b[34m\u001b[1mtrain: \u001b[0mWARNING ⚠️ /content/trash_inst_material/train/images/vid_000333_frame0000050.jpg: ignoring corrupt image/label: non-normalized or out of bounds coordinates [     1.0037]\n",
            "\u001b[34m\u001b[1mtrain: \u001b[0mWARNING ⚠️ /content/trash_inst_material/train/images/vid_000431_frame0000031.jpg: ignoring corrupt image/label: non-normalized or out of bounds coordinates [     1.0021]\n",
            "\u001b[34m\u001b[1mtrain: \u001b[0mWARNING ⚠️ /content/trash_inst_material/train/images/vid_000431_frame0000032.jpg: ignoring corrupt image/label: non-normalized or out of bounds coordinates [     1.0021]\n",
            "\u001b[34m\u001b[1mtrain: \u001b[0mWARNING ⚠️ /content/trash_inst_material/train/images/vid_000431_frame0000039.jpg: ignoring corrupt image/label: non-normalized or out of bounds coordinates [     1.0021]\n",
            "\u001b[34m\u001b[1mtrain: \u001b[0mWARNING ⚠️ /content/trash_inst_material/train/images/vid_000431_frame0000040.jpg: ignoring corrupt image/label: non-normalized or out of bounds coordinates [     1.0021]\n",
            "\u001b[34m\u001b[1mtrain: \u001b[0mWARNING ⚠️ /content/trash_inst_material/train/images/vid_000431_frame0000041.jpg: ignoring corrupt image/label: non-normalized or out of bounds coordinates [     1.0021]\n",
            "\u001b[34m\u001b[1mtrain: \u001b[0mWARNING ⚠️ /content/trash_inst_material/train/images/vid_000431_frame0000043.jpg: ignoring corrupt image/label: non-normalized or out of bounds coordinates [     1.0021]\n",
            "\u001b[34m\u001b[1mtrain: \u001b[0mWARNING ⚠️ /content/trash_inst_material/train/images/vid_000431_frame0000045.jpg: ignoring corrupt image/label: non-normalized or out of bounds coordinates [     1.0021]\n",
            "\u001b[34m\u001b[1mtrain: \u001b[0mWARNING ⚠️ /content/trash_inst_material/train/images/vid_000431_frame0000047.jpg: ignoring corrupt image/label: non-normalized or out of bounds coordinates [     1.0021]\n",
            "\u001b[34m\u001b[1mtrain: \u001b[0mWARNING ⚠️ /content/trash_inst_material/train/images/vid_000432_frame0000007.jpg: ignoring corrupt image/label: non-normalized or out of bounds coordinates [     1.0028]\n",
            "\u001b[34m\u001b[1mtrain: \u001b[0mWARNING ⚠️ /content/trash_inst_material/train/images/vid_000432_frame0000008.jpg: ignoring corrupt image/label: non-normalized or out of bounds coordinates [     1.0028]\n",
            "\u001b[34m\u001b[1mtrain: \u001b[0mWARNING ⚠️ /content/trash_inst_material/train/images/vid_000432_frame0000009.jpg: ignoring corrupt image/label: non-normalized or out of bounds coordinates [     1.0028]\n",
            "\u001b[34m\u001b[1mtrain: \u001b[0mWARNING ⚠️ /content/trash_inst_material/train/images/vid_000432_frame0000013.jpg: ignoring corrupt image/label: non-normalized or out of bounds coordinates [     1.0028]\n",
            "\u001b[34m\u001b[1mtrain: \u001b[0mWARNING ⚠️ /content/trash_inst_material/train/images/vid_000434_frame0000035.jpg: ignoring corrupt image/label: non-normalized or out of bounds coordinates [     1.0021]\n",
            "\u001b[34m\u001b[1mtrain: \u001b[0mWARNING ⚠️ /content/trash_inst_material/train/images/vid_000437_frame0000008.jpg: ignoring corrupt image/label: non-normalized or out of bounds coordinates [     1.0021]\n",
            "\u001b[34m\u001b[1mtrain: \u001b[0mWARNING ⚠️ /content/trash_inst_material/train/images/vid_000437_frame0000009.jpg: ignoring corrupt image/label: non-normalized or out of bounds coordinates [     1.0021]\n",
            "\u001b[34m\u001b[1mtrain: \u001b[0mWARNING ⚠️ /content/trash_inst_material/train/images/vid_000442_frame0000001.jpg: ignoring corrupt image/label: non-normalized or out of bounds coordinates [     1.0021]\n",
            "\u001b[34m\u001b[1mtrain: \u001b[0mWARNING ⚠️ /content/trash_inst_material/train/images/vid_000443_frame0000003.jpg: ignoring corrupt image/label: non-normalized or out of bounds coordinates [     1.0021]\n",
            "\u001b[34m\u001b[1mtrain: \u001b[0mWARNING ⚠️ /content/trash_inst_material/train/images/vid_000448_frame0000011.jpg: ignoring corrupt image/label: non-normalized or out of bounds coordinates [     1.0028]\n",
            "\u001b[34m\u001b[1mtrain: \u001b[0mWARNING ⚠️ /content/trash_inst_material/train/images/vid_000550_frame0000031.jpg: ignoring corrupt image/label: non-normalized or out of bounds coordinates [     1.0037]\n",
            "\u001b[34m\u001b[1mtrain: \u001b[0mWARNING ⚠️ /content/trash_inst_material/train/images/vid_000550_frame0000032.jpg: ignoring corrupt image/label: non-normalized or out of bounds coordinates [     1.0037]\n",
            "\u001b[34m\u001b[1mtrain: \u001b[0mWARNING ⚠️ /content/trash_inst_material/train/images/vid_000550_frame0000033.jpg: ignoring corrupt image/label: non-normalized or out of bounds coordinates [     1.0037]\n",
            "\u001b[34m\u001b[1mtrain: \u001b[0mWARNING ⚠️ /content/trash_inst_material/train/images/vid_000550_frame0000044.jpg: ignoring corrupt image/label: non-normalized or out of bounds coordinates [     1.0036]\n",
            "\u001b[34m\u001b[1mtrain: \u001b[0mWARNING ⚠️ /content/trash_inst_material/train/images/vid_000552_frame0000107.jpg: ignoring corrupt image/label: non-normalized or out of bounds coordinates [     1.0021]\n",
            "/usr/local/lib/python3.10/dist-packages/albumentations/__init__.py:24: UserWarning: A new version of Albumentations is available: 1.4.21 (you have 1.4.20). Upgrade using: pip install -U albumentations. To disable automatic update checks, set the environment variable NO_ALBUMENTATIONS_UPDATE to 1.\n",
            "  check_for_updates()\n",
            "\u001b[34m\u001b[1malbumentations: \u001b[0mBlur(p=0.01, blur_limit=(3, 7)), MedianBlur(p=0.01, blur_limit=(3, 7)), ToGray(p=0.01, num_output_channels=3, method='weighted_average'), CLAHE(p=0.01, clip_limit=(1.0, 4.0), tile_grid_size=(8, 8))\n",
            "\u001b[34m\u001b[1mval: \u001b[0mScanning /content/trash_inst_material/val/labels.cache... 1204 images, 0 backgrounds, 55 corrupt: 100% 1204/1204 [00:00<?, ?it/s]\n",
            "\u001b[34m\u001b[1mval: \u001b[0mWARNING ⚠️ /content/trash_inst_material/val/images/vid_000052_frame0000064.jpg: ignoring corrupt image/label: non-normalized or out of bounds coordinates [     1.0037]\n",
            "\u001b[34m\u001b[1mval: \u001b[0mWARNING ⚠️ /content/trash_inst_material/val/images/vid_000052_frame0000066.jpg: ignoring corrupt image/label: non-normalized or out of bounds coordinates [     1.0021      1.0037]\n",
            "\u001b[34m\u001b[1mval: \u001b[0mWARNING ⚠️ /content/trash_inst_material/val/images/vid_000052_frame0000068.jpg: ignoring corrupt image/label: non-normalized or out of bounds coordinates [     1.0037]\n",
            "\u001b[34m\u001b[1mval: \u001b[0mWARNING ⚠️ /content/trash_inst_material/val/images/vid_000052_frame0000070.jpg: ignoring corrupt image/label: non-normalized or out of bounds coordinates [     1.0021      1.0037]\n",
            "\u001b[34m\u001b[1mval: \u001b[0mWARNING ⚠️ /content/trash_inst_material/val/images/vid_000052_frame0000072.jpg: ignoring corrupt image/label: non-normalized or out of bounds coordinates [     1.0021      1.0037]\n",
            "\u001b[34m\u001b[1mval: \u001b[0mWARNING ⚠️ /content/trash_inst_material/val/images/vid_000052_frame0000074.jpg: ignoring corrupt image/label: non-normalized or out of bounds coordinates [     1.0021      1.0037]\n",
            "\u001b[34m\u001b[1mval: \u001b[0mWARNING ⚠️ /content/trash_inst_material/val/images/vid_000052_frame0000076.jpg: ignoring corrupt image/label: non-normalized or out of bounds coordinates [     1.0037]\n",
            "\u001b[34m\u001b[1mval: \u001b[0mWARNING ⚠️ /content/trash_inst_material/val/images/vid_000052_frame0000078.jpg: ignoring corrupt image/label: non-normalized or out of bounds coordinates [     1.0037]\n",
            "\u001b[34m\u001b[1mval: \u001b[0mWARNING ⚠️ /content/trash_inst_material/val/images/vid_000052_frame0000089.jpg: ignoring corrupt image/label: non-normalized or out of bounds coordinates [     1.0037]\n",
            "\u001b[34m\u001b[1mval: \u001b[0mWARNING ⚠️ /content/trash_inst_material/val/images/vid_000052_frame0000091.jpg: ignoring corrupt image/label: non-normalized or out of bounds coordinates [     1.0037]\n",
            "\u001b[34m\u001b[1mval: \u001b[0mWARNING ⚠️ /content/trash_inst_material/val/images/vid_000053_frame0000001.jpg: ignoring corrupt image/label: non-normalized or out of bounds coordinates [     1.0037]\n",
            "\u001b[34m\u001b[1mval: \u001b[0mWARNING ⚠️ /content/trash_inst_material/val/images/vid_000053_frame0000002.jpg: ignoring corrupt image/label: non-normalized or out of bounds coordinates [     1.0037]\n",
            "\u001b[34m\u001b[1mval: \u001b[0mWARNING ⚠️ /content/trash_inst_material/val/images/vid_000053_frame0000040.jpg: ignoring corrupt image/label: non-normalized or out of bounds coordinates [     1.0037]\n",
            "\u001b[34m\u001b[1mval: \u001b[0mWARNING ⚠️ /content/trash_inst_material/val/images/vid_000055_frame0000060.jpg: ignoring corrupt image/label: non-normalized or out of bounds coordinates [     1.0021]\n",
            "\u001b[34m\u001b[1mval: \u001b[0mWARNING ⚠️ /content/trash_inst_material/val/images/vid_000055_frame0000070.jpg: ignoring corrupt image/label: non-normalized or out of bounds coordinates [     1.0021]\n",
            "\u001b[34m\u001b[1mval: \u001b[0mWARNING ⚠️ /content/trash_inst_material/val/images/vid_000055_frame0000075.jpg: ignoring corrupt image/label: non-normalized or out of bounds coordinates [     1.0021      1.0037]\n",
            "\u001b[34m\u001b[1mval: \u001b[0mWARNING ⚠️ /content/trash_inst_material/val/images/vid_000055_frame0000080.jpg: ignoring corrupt image/label: non-normalized or out of bounds coordinates [     1.0021      1.0037]\n",
            "\u001b[34m\u001b[1mval: \u001b[0mWARNING ⚠️ /content/trash_inst_material/val/images/vid_000055_frame0000095.jpg: ignoring corrupt image/label: non-normalized or out of bounds coordinates [     1.0021      1.0037]\n",
            "\u001b[34m\u001b[1mval: \u001b[0mWARNING ⚠️ /content/trash_inst_material/val/images/vid_000055_frame0000175.jpg: ignoring corrupt image/label: non-normalized or out of bounds coordinates [     1.0021      1.0037      1.0037]\n",
            "\u001b[34m\u001b[1mval: \u001b[0mWARNING ⚠️ /content/trash_inst_material/val/images/vid_000074_frame0000050.jpg: ignoring corrupt image/label: non-normalized or out of bounds coordinates [     1.0037]\n",
            "\u001b[34m\u001b[1mval: \u001b[0mWARNING ⚠️ /content/trash_inst_material/val/images/vid_000074_frame0000051.jpg: ignoring corrupt image/label: non-normalized or out of bounds coordinates [     1.0037]\n",
            "\u001b[34m\u001b[1mval: \u001b[0mWARNING ⚠️ /content/trash_inst_material/val/images/vid_000074_frame0000052.jpg: ignoring corrupt image/label: non-normalized or out of bounds coordinates [     1.0037]\n",
            "\u001b[34m\u001b[1mval: \u001b[0mWARNING ⚠️ /content/trash_inst_material/val/images/vid_000074_frame0000053.jpg: ignoring corrupt image/label: non-normalized or out of bounds coordinates [     1.0037]\n",
            "\u001b[34m\u001b[1mval: \u001b[0mWARNING ⚠️ /content/trash_inst_material/val/images/vid_000075_frame0000058.jpg: ignoring corrupt image/label: non-normalized or out of bounds coordinates [     1.0021      1.0021]\n",
            "\u001b[34m\u001b[1mval: \u001b[0mWARNING ⚠️ /content/trash_inst_material/val/images/vid_000075_frame0000059.jpg: ignoring corrupt image/label: non-normalized or out of bounds coordinates [     1.0021]\n",
            "\u001b[34m\u001b[1mval: \u001b[0mWARNING ⚠️ /content/trash_inst_material/val/images/vid_000075_frame0000070.jpg: ignoring corrupt image/label: non-normalized or out of bounds coordinates [     1.0021]\n",
            "\u001b[34m\u001b[1mval: \u001b[0mWARNING ⚠️ /content/trash_inst_material/val/images/vid_000075_frame0000075.jpg: ignoring corrupt image/label: non-normalized or out of bounds coordinates [     1.0021]\n",
            "\u001b[34m\u001b[1mval: \u001b[0mWARNING ⚠️ /content/trash_inst_material/val/images/vid_000075_frame0000180.jpg: ignoring corrupt image/label: non-normalized or out of bounds coordinates [     1.0021]\n",
            "\u001b[34m\u001b[1mval: \u001b[0mWARNING ⚠️ /content/trash_inst_material/val/images/vid_000077_frame0000034.jpg: ignoring corrupt image/label: non-normalized or out of bounds coordinates [     1.0021      1.0037]\n",
            "\u001b[34m\u001b[1mval: \u001b[0mWARNING ⚠️ /content/trash_inst_material/val/images/vid_000077_frame0000036.jpg: ignoring corrupt image/label: non-normalized or out of bounds coordinates [     1.0036]\n",
            "\u001b[34m\u001b[1mval: \u001b[0mWARNING ⚠️ /content/trash_inst_material/val/images/vid_000077_frame0000042.jpg: ignoring corrupt image/label: non-normalized or out of bounds coordinates [     1.0037]\n",
            "\u001b[34m\u001b[1mval: \u001b[0mWARNING ⚠️ /content/trash_inst_material/val/images/vid_000089_frame0000001.jpg: ignoring corrupt image/label: non-normalized or out of bounds coordinates [     1.0037]\n",
            "\u001b[34m\u001b[1mval: \u001b[0mWARNING ⚠️ /content/trash_inst_material/val/images/vid_000089_frame0000010.jpg: ignoring corrupt image/label: non-normalized or out of bounds coordinates [     1.0037]\n",
            "\u001b[34m\u001b[1mval: \u001b[0mWARNING ⚠️ /content/trash_inst_material/val/images/vid_000089_frame0000014.jpg: ignoring corrupt image/label: non-normalized or out of bounds coordinates [     1.0021      1.0037      1.0037]\n",
            "\u001b[34m\u001b[1mval: \u001b[0mWARNING ⚠️ /content/trash_inst_material/val/images/vid_000089_frame0000015.jpg: ignoring corrupt image/label: non-normalized or out of bounds coordinates [     1.0037]\n",
            "\u001b[34m\u001b[1mval: \u001b[0mWARNING ⚠️ /content/trash_inst_material/val/images/vid_000089_frame0000016.jpg: ignoring corrupt image/label: non-normalized or out of bounds coordinates [     1.0037]\n",
            "\u001b[34m\u001b[1mval: \u001b[0mWARNING ⚠️ /content/trash_inst_material/val/images/vid_000089_frame0000024.jpg: ignoring corrupt image/label: non-normalized or out of bounds coordinates [     1.0037]\n",
            "\u001b[34m\u001b[1mval: \u001b[0mWARNING ⚠️ /content/trash_inst_material/val/images/vid_000090_frame0000054.jpg: ignoring corrupt image/label: non-normalized or out of bounds coordinates [     1.0037]\n",
            "\u001b[34m\u001b[1mval: \u001b[0mWARNING ⚠️ /content/trash_inst_material/val/images/vid_000090_frame0000079.jpg: ignoring corrupt image/label: non-normalized or out of bounds coordinates [     1.0037]\n",
            "\u001b[34m\u001b[1mval: \u001b[0mWARNING ⚠️ /content/trash_inst_material/val/images/vid_000094_frame0000004.jpg: ignoring corrupt image/label: non-normalized or out of bounds coordinates [     1.0021]\n",
            "\u001b[34m\u001b[1mval: \u001b[0mWARNING ⚠️ /content/trash_inst_material/val/images/vid_000094_frame0000027.jpg: ignoring corrupt image/label: non-normalized or out of bounds coordinates [     1.0021]\n",
            "\u001b[34m\u001b[1mval: \u001b[0mWARNING ⚠️ /content/trash_inst_material/val/images/vid_000094_frame0000036.jpg: ignoring corrupt image/label: non-normalized or out of bounds coordinates [     1.0037]\n",
            "\u001b[34m\u001b[1mval: \u001b[0mWARNING ⚠️ /content/trash_inst_material/val/images/vid_000094_frame0000039.jpg: ignoring corrupt image/label: non-normalized or out of bounds coordinates [     1.0037]\n",
            "\u001b[34m\u001b[1mval: \u001b[0mWARNING ⚠️ /content/trash_inst_material/val/images/vid_000094_frame0000041.jpg: ignoring corrupt image/label: non-normalized or out of bounds coordinates [     1.0021]\n",
            "\u001b[34m\u001b[1mval: \u001b[0mWARNING ⚠️ /content/trash_inst_material/val/images/vid_000095_frame0000001.jpg: ignoring corrupt image/label: non-normalized or out of bounds coordinates [     1.0037]\n",
            "\u001b[34m\u001b[1mval: \u001b[0mWARNING ⚠️ /content/trash_inst_material/val/images/vid_000095_frame0000008.jpg: ignoring corrupt image/label: non-normalized or out of bounds coordinates [     1.0037      1.0037      1.0037]\n",
            "\u001b[34m\u001b[1mval: \u001b[0mWARNING ⚠️ /content/trash_inst_material/val/images/vid_000095_frame0000012.jpg: ignoring corrupt image/label: non-normalized or out of bounds coordinates [     1.0037      1.0037]\n",
            "\u001b[34m\u001b[1mval: \u001b[0mWARNING ⚠️ /content/trash_inst_material/val/images/vid_000126_frame0000013.jpg: ignoring corrupt image/label: non-normalized or out of bounds coordinates [     1.0037]\n",
            "\u001b[34m\u001b[1mval: \u001b[0mWARNING ⚠️ /content/trash_inst_material/val/images/vid_000143_frame0000013.jpg: 1 duplicate labels removed\n",
            "\u001b[34m\u001b[1mval: \u001b[0mWARNING ⚠️ /content/trash_inst_material/val/images/vid_000144_frame0000037.jpg: ignoring corrupt image/label: non-normalized or out of bounds coordinates [     1.0021]\n",
            "\u001b[34m\u001b[1mval: \u001b[0mWARNING ⚠️ /content/trash_inst_material/val/images/vid_000236_frame0000009.jpg: ignoring corrupt image/label: non-normalized or out of bounds coordinates [     1.0021]\n",
            "\u001b[34m\u001b[1mval: \u001b[0mWARNING ⚠️ /content/trash_inst_material/val/images/vid_000236_frame0000020.jpg: ignoring corrupt image/label: non-normalized or out of bounds coordinates [     1.0021]\n",
            "\u001b[34m\u001b[1mval: \u001b[0mWARNING ⚠️ /content/trash_inst_material/val/images/vid_000236_frame0000023.jpg: ignoring corrupt image/label: non-normalized or out of bounds coordinates [     1.0021]\n",
            "\u001b[34m\u001b[1mval: \u001b[0mWARNING ⚠️ /content/trash_inst_material/val/images/vid_000236_frame0000031.jpg: ignoring corrupt image/label: non-normalized or out of bounds coordinates [     1.0021]\n",
            "\u001b[34m\u001b[1mval: \u001b[0mWARNING ⚠️ /content/trash_inst_material/val/images/vid_000249_frame0000001.jpg: ignoring corrupt image/label: non-normalized or out of bounds coordinates [     1.0021]\n",
            "\u001b[34m\u001b[1mval: \u001b[0mWARNING ⚠️ /content/trash_inst_material/val/images/vid_000324_frame0000025.jpg: ignoring corrupt image/label: non-normalized or out of bounds coordinates [     1.0021      1.0037]\n",
            "Plotting labels to runs/segment/yolov8s-seg/labels.jpg... \n",
            "\u001b[34m\u001b[1moptimizer:\u001b[0m 'optimizer=auto' found, ignoring 'lr0=0.01' and 'momentum=0.937' and determining best 'optimizer', 'lr0' and 'momentum' automatically... \n",
            "\u001b[34m\u001b[1moptimizer:\u001b[0m AdamW(lr=0.0005, momentum=0.9) with parameter groups 66 weight(decay=0.0), 77 weight(decay=0.0005), 76 bias(decay=0.0)\n",
            "\u001b[34m\u001b[1mTensorBoard: \u001b[0mmodel graph visualization added ✅\n",
            "Image sizes 640 train, 640 val\n",
            "Using 2 dataloader workers\n",
            "Logging results to \u001b[1mruns/segment/yolov8s-seg\u001b[0m\n",
            "Starting training for 5 epochs...\n",
            "\n",
            "      Epoch    GPU_mem   box_loss   seg_loss   cls_loss   dfl_loss  Instances       Size\n",
            "        1/5      9.06G      1.297      3.014      5.095      1.334         42        640:  19% 67/355 [00:54<03:55,  1.22it/s]\n",
            "Traceback (most recent call last):\n",
            "  File \"/usr/local/bin/yolo\", line 8, in <module>\n",
            "    sys.exit(entrypoint())\n",
            "  File \"/usr/local/lib/python3.10/dist-packages/ultralytics/cfg/__init__.py\", line 969, in entrypoint\n",
            "    getattr(model, mode)(**overrides)  # default args from model\n",
            "  File \"/usr/local/lib/python3.10/dist-packages/ultralytics/engine/model.py\", line 802, in train\n",
            "    self.trainer.train()\n",
            "  File \"/usr/local/lib/python3.10/dist-packages/ultralytics/engine/trainer.py\", line 207, in train\n",
            "    self._do_train(world_size)\n",
            "  File \"/usr/local/lib/python3.10/dist-packages/ultralytics/engine/trainer.py\", line 380, in _do_train\n",
            "    self.loss, self.loss_items = self.model(batch)\n",
            "  File \"/usr/local/lib/python3.10/dist-packages/torch/nn/modules/module.py\", line 1736, in _wrapped_call_impl\n",
            "    return self._call_impl(*args, **kwargs)\n",
            "  File \"/usr/local/lib/python3.10/dist-packages/torch/nn/modules/module.py\", line 1747, in _call_impl\n",
            "    return forward_call(*args, **kwargs)\n",
            "  File \"/usr/local/lib/python3.10/dist-packages/ultralytics/nn/tasks.py\", line 111, in forward\n",
            "    return self.loss(x, *args, **kwargs)\n",
            "  File \"/usr/local/lib/python3.10/dist-packages/ultralytics/nn/tasks.py\", line 293, in loss\n",
            "    return self.criterion(preds, batch)\n",
            "  File \"/usr/local/lib/python3.10/dist-packages/ultralytics/utils/loss.py\", line 340, in __call__\n",
            "    loss[1] = self.calculate_segmentation_loss(\n",
            "  File \"/usr/local/lib/python3.10/dist-packages/ultralytics/utils/loss.py\", line 436, in calculate_segmentation_loss\n",
            "    loss += self.single_mask_loss(\n",
            "  File \"/usr/local/lib/python3.10/dist-packages/ultralytics/utils/loss.py\", line 378, in single_mask_loss\n",
            "    return (crop_mask(loss, xyxy).mean(dim=(1, 2)) / area).sum()\n",
            "  File \"/usr/local/lib/python3.10/dist-packages/ultralytics/utils/ops.py\", line 650, in crop_mask\n",
            "    r = torch.arange(w, device=masks.device, dtype=x1.dtype)[None, None, :]  # rows shape(1,1,w)\n",
            "KeyboardInterrupt\n"
          ]
        }
      ],
      "source": [
        "EPOCHS = 5\n",
        "!yolo \\\n",
        "task=detect \\\n",
        "mode=train \\\n",
        "model=yolov8m-seg.pt \\\n",
        "imgsz=640 \\\n",
        "data=trashcan_inst_material.yaml \\\n",
        "epochs={EPOCHS} \\\n",
        "batch=16 \\\n",
        "name=yolov8m-seg \\\n",
        "exist_ok=True \\\n",
        "amp=False"
      ]
    },
    {
      "cell_type": "markdown",
      "id": "a2623f23",
      "metadata": {
        "id": "a2623f23",
        "papermill": {
          "duration": 4.31202,
          "end_time": "2023-04-05T22:58:21.848598",
          "exception": false,
          "start_time": "2023-04-05T22:58:17.536578",
          "status": "completed"
        },
        "tags": []
      },
      "source": [
        "We get the best results using the YOLOv8m model. We have a box mAP of almost 50 and mask mAP of 37.8 which is pretty good.But gpu usage is considerabely HIGH."
      ]
    },
    {
      "cell_type": "markdown",
      "id": "0151023b",
      "metadata": {
        "id": "0151023b",
        "papermill": {
          "duration": 4.48837,
          "end_time": "2023-04-05T22:58:40.441653",
          "exception": false,
          "start_time": "2023-04-05T22:58:35.953283",
          "status": "completed"
        },
        "tags": []
      },
      "source": [
        "## Image Inference\n",
        "\n",
        "As we have the trained models now, let's use the best model for running inference on some images."
      ]
    },
    {
      "cell_type": "code",
      "execution_count": 11,
      "id": "2bcc3d48",
      "metadata": {
        "id": "2bcc3d48",
        "outputId": "1f221d4e-6af2-4a75-e43a-a722e970e47b",
        "papermill": {
          "duration": 4.27035,
          "end_time": "2023-04-05T22:58:48.984739",
          "exception": false,
          "start_time": "2023-04-05T22:58:44.714389",
          "status": "completed"
        },
        "tags": [],
        "colab": {
          "base_uri": "https://localhost:8080/"
        }
      },
      "outputs": [
        {
          "output_type": "stream",
          "name": "stdout",
          "text": [
            "Extracted all\n"
          ]
        }
      ],
      "source": [
        "# Download the inference data.\n",
        "download_file(\n",
        "    'https://www.dropbox.com/s/smdsotzz5al3bi2/trash_segment_inference_data.zip?dl=1',\n",
        "    'trash_segment_inference_data.zip'\n",
        ")\n",
        "\n",
        "unzip(zip_file='trash_segment_inference_data.zip')"
      ]
    },
    {
      "cell_type": "markdown",
      "id": "daed84cd",
      "metadata": {
        "id": "daed84cd",
        "papermill": {
          "duration": 4.298617,
          "end_time": "2023-04-05T22:58:57.651075",
          "exception": false,
          "start_time": "2023-04-05T22:58:53.352458",
          "status": "completed"
        },
        "tags": []
      },
      "source": [
        "Before that, following is a simple image visualization function."
      ]
    },
    {
      "cell_type": "code",
      "execution_count": 12,
      "id": "595004b9",
      "metadata": {
        "id": "595004b9",
        "papermill": {
          "duration": 4.972918,
          "end_time": "2023-04-05T22:59:06.811176",
          "exception": false,
          "start_time": "2023-04-05T22:59:01.838258",
          "status": "completed"
        },
        "tags": []
      },
      "outputs": [],
      "source": [
        "# Plot and visualize images in a 2x2 grid.\n",
        "def visualize(result_dir):\n",
        "    \"\"\"\n",
        "    Function accepts a list of images and plots\n",
        "    them in either a 1x1 grid or 2x2 grid.\n",
        "    \"\"\"\n",
        "    image_names = glob.glob(os.path.join(result_dir, '*.jpg'))\n",
        "    if len(image_names) < 4:\n",
        "        plt.figure(figsize=(10, 7))\n",
        "        for i, image_name in enumerate(image_names):\n",
        "            image = plt.imread(image_name)\n",
        "            plt.subplot(1, 1, i+1)\n",
        "            plt.imshow(image)\n",
        "            plt.axis('off')\n",
        "            break\n",
        "    if len(image_names) >= 4:\n",
        "        plt.figure(figsize=(15, 12))\n",
        "        for i, image_name in enumerate(image_names):\n",
        "            image = plt.imread(image_name)\n",
        "            plt.subplot(2, 2, i+1)\n",
        "            plt.imshow(image)\n",
        "            plt.axis('off')\n",
        "            if i == 3:\n",
        "                break\n",
        "    plt.tight_layout()\n",
        "    plt.show()"
      ]
    },
    {
      "cell_type": "code",
      "execution_count": 13,
      "id": "49808355",
      "metadata": {
        "id": "49808355",
        "outputId": "103ad169-4154-447d-85c5-783560b29ac2",
        "papermill": {
          "duration": 4.282793,
          "end_time": "2023-04-05T22:59:15.293396",
          "exception": false,
          "start_time": "2023-04-05T22:59:11.010603",
          "status": "completed"
        },
        "tags": [],
        "colab": {
          "base_uri": "https://localhost:8080/"
        }
      },
      "outputs": [
        {
          "output_type": "stream",
          "name": "stdout",
          "text": [
            "Traceback (most recent call last):\n",
            "  File \"/usr/local/bin/yolo\", line 8, in <module>\n",
            "    sys.exit(entrypoint())\n",
            "  File \"/usr/local/lib/python3.10/dist-packages/ultralytics/cfg/__init__.py\", line 940, in entrypoint\n",
            "    model = YOLO(model, task=task)\n",
            "  File \"/usr/local/lib/python3.10/dist-packages/ultralytics/models/yolo/model.py\", line 23, in __init__\n",
            "    super().__init__(model=model, task=task, verbose=verbose)\n",
            "  File \"/usr/local/lib/python3.10/dist-packages/ultralytics/engine/model.py\", line 145, in __init__\n",
            "    self._load(model, task=task)\n",
            "  File \"/usr/local/lib/python3.10/dist-packages/ultralytics/engine/model.py\", line 285, in _load\n",
            "    self.model, self.ckpt = attempt_load_one_weight(weights)\n",
            "  File \"/usr/local/lib/python3.10/dist-packages/ultralytics/nn/tasks.py\", line 910, in attempt_load_one_weight\n",
            "    ckpt, weight = torch_safe_load(weight)  # load ckpt\n",
            "  File \"/usr/local/lib/python3.10/dist-packages/ultralytics/nn/tasks.py\", line 837, in torch_safe_load\n",
            "    ckpt = torch.load(file, map_location=\"cpu\")\n",
            "  File \"/usr/local/lib/python3.10/dist-packages/ultralytics/utils/patches.py\", line 86, in torch_load\n",
            "    return _torch_load(*args, **kwargs)\n",
            "  File \"/usr/local/lib/python3.10/dist-packages/torch/serialization.py\", line 1319, in load\n",
            "    with _open_file_like(f, \"rb\") as opened_file:\n",
            "  File \"/usr/local/lib/python3.10/dist-packages/torch/serialization.py\", line 659, in _open_file_like\n",
            "    return _open_file(name_or_buffer, mode)\n",
            "  File \"/usr/local/lib/python3.10/dist-packages/torch/serialization.py\", line 640, in __init__\n",
            "    super().__init__(open(name, mode))\n",
            "FileNotFoundError: [Errno 2] No such file or directory: 'runs/segment/yolov8m-seg/weights/best.pt'\n"
          ]
        }
      ],
      "source": [
        "!yolo predict \\\n",
        "model='runs/segment/yolov8m-seg/weights/best.pt' \\\n",
        "source='trash_inst_material/val/images/' \\\n",
        "name='yolov8m_predict' \\\n",
        "exist_ok=True \\\n",
        "save=True"
      ]
    },
    {
      "cell_type": "code",
      "execution_count": 14,
      "id": "cae3295b",
      "metadata": {
        "id": "cae3295b",
        "outputId": "fa0e4c9b-bfda-4d53-e9bd-34756dbb70c7",
        "papermill": {
          "duration": 4.203137,
          "end_time": "2023-04-05T22:59:23.789604",
          "exception": false,
          "start_time": "2023-04-05T22:59:19.586467",
          "status": "completed"
        },
        "tags": [],
        "colab": {
          "base_uri": "https://localhost:8080/",
          "height": 34
        }
      },
      "outputs": [
        {
          "output_type": "display_data",
          "data": {
            "text/plain": [
              "<Figure size 1000x700 with 0 Axes>"
            ]
          },
          "metadata": {}
        }
      ],
      "source": [
        "visualize('runs/segment/yolov8m_predict')"
      ]
    },
    {
      "cell_type": "markdown",
      "id": "72ccb735",
      "metadata": {
        "id": "72ccb735",
        "papermill": {
          "duration": 4.206707,
          "end_time": "2023-04-05T22:59:32.268254",
          "exception": false,
          "start_time": "2023-04-05T22:59:28.061547",
          "status": "completed"
        },
        "tags": []
      },
      "source": [
        "## Inference on Videos\n",
        "\n",
        "For one final testing, let's run inference on videos."
      ]
    },
    {
      "cell_type": "code",
      "execution_count": 15,
      "id": "2be3ec0d",
      "metadata": {
        "id": "2be3ec0d",
        "outputId": "b5ebec62-56bf-4b23-bef7-a53aae72b100",
        "papermill": {
          "duration": 4.387314,
          "end_time": "2023-04-05T22:59:41.358824",
          "exception": false,
          "start_time": "2023-04-05T22:59:36.971510",
          "status": "completed"
        },
        "tags": [],
        "colab": {
          "base_uri": "https://localhost:8080/"
        }
      },
      "outputs": [
        {
          "output_type": "stream",
          "name": "stdout",
          "text": [
            "Traceback (most recent call last):\n",
            "  File \"/usr/local/bin/yolo\", line 8, in <module>\n",
            "    sys.exit(entrypoint())\n",
            "  File \"/usr/local/lib/python3.10/dist-packages/ultralytics/cfg/__init__.py\", line 940, in entrypoint\n",
            "    model = YOLO(model, task=task)\n",
            "  File \"/usr/local/lib/python3.10/dist-packages/ultralytics/models/yolo/model.py\", line 23, in __init__\n",
            "    super().__init__(model=model, task=task, verbose=verbose)\n",
            "  File \"/usr/local/lib/python3.10/dist-packages/ultralytics/engine/model.py\", line 145, in __init__\n",
            "    self._load(model, task=task)\n",
            "  File \"/usr/local/lib/python3.10/dist-packages/ultralytics/engine/model.py\", line 285, in _load\n",
            "    self.model, self.ckpt = attempt_load_one_weight(weights)\n",
            "  File \"/usr/local/lib/python3.10/dist-packages/ultralytics/nn/tasks.py\", line 910, in attempt_load_one_weight\n",
            "    ckpt, weight = torch_safe_load(weight)  # load ckpt\n",
            "  File \"/usr/local/lib/python3.10/dist-packages/ultralytics/nn/tasks.py\", line 837, in torch_safe_load\n",
            "    ckpt = torch.load(file, map_location=\"cpu\")\n",
            "  File \"/usr/local/lib/python3.10/dist-packages/ultralytics/utils/patches.py\", line 86, in torch_load\n",
            "    return _torch_load(*args, **kwargs)\n",
            "  File \"/usr/local/lib/python3.10/dist-packages/torch/serialization.py\", line 1319, in load\n",
            "    with _open_file_like(f, \"rb\") as opened_file:\n",
            "  File \"/usr/local/lib/python3.10/dist-packages/torch/serialization.py\", line 659, in _open_file_like\n",
            "    return _open_file(name_or_buffer, mode)\n",
            "  File \"/usr/local/lib/python3.10/dist-packages/torch/serialization.py\", line 640, in __init__\n",
            "    super().__init__(open(name, mode))\n",
            "FileNotFoundError: [Errno 2] No such file or directory: 'runs/segment/yolov8m-seg/weights/best.pt'\n"
          ]
        }
      ],
      "source": [
        "!yolo predict \\\n",
        "model='runs/segment/yolov8m-seg/weights/best.pt' \\\n",
        "source='trash_segment_inference_data/manythings.mp4' \\\n",
        "name='yolov8m_predict_videos1' \\\n",
        "exist_ok=True \\\n",
        "save=True"
      ]
    }
  ],
  "metadata": {
    "kernelspec": {
      "display_name": "Python 3",
      "name": "python3"
    },
    "language_info": {
      "codemirror_mode": {
        "name": "ipython",
        "version": 3
      },
      "file_extension": ".py",
      "mimetype": "text/x-python",
      "name": "python",
      "nbconvert_exporter": "python",
      "pygments_lexer": "ipython3",
      "version": "3.10.8"
    },
    "papermill": {
      "default_parameters": {},
      "duration": 29120.669632,
      "end_time": "2023-04-05T23:00:31.839734",
      "environment_variables": {},
      "exception": null,
      "input_path": "__notebook__.ipynb",
      "output_path": "__notebook__.ipynb",
      "parameters": {},
      "start_time": "2023-04-05T14:55:11.170102",
      "version": "2.4.0"
    },
    "colab": {
      "provenance": [],
      "gpuType": "T4",
      "include_colab_link": true
    },
    "accelerator": "GPU"
  },
  "nbformat": 4,
  "nbformat_minor": 5
}